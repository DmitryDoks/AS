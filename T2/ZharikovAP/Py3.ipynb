{
 "cells": [
  {
   "cell_type": "code",
   "execution_count": 2,
   "metadata": {},
   "outputs": [
    {
     "name": "stdout",
     "output_type": "stream",
     "text": [
      "73\n"
     ]
    }
   ],
   "source": [
    "def func(a):\n",
    "    i=0\n",
    "    result = 0\n",
    "    for c in a:\n",
    "        if c>0 :\n",
    "            if i==0 or i==2 or i==5:\n",
    "                result +=c\n",
    "            i+=1\n",
    "    return result\n",
    "\n",
    "a=(1,2,-3,-3,-5,60,32,-12,42,12,34,-12,4)\n",
    "print(func (a))"
   ]
  },
  {
   "cell_type": "code",
   "execution_count": null,
   "metadata": {},
   "outputs": [],
   "source": []
  }
 ],
 "metadata": {
  "kernelspec": {
   "display_name": "Python 3",
   "language": "python",
   "name": "python3"
  },
  "language_info": {
   "codemirror_mode": {
    "name": "ipython",
    "version": 3
   },
   "file_extension": ".py",
   "mimetype": "text/x-python",
   "name": "python",
   "nbconvert_exporter": "python",
   "pygments_lexer": "ipython3",
   "version": "3.6.3"
  }
 },
 "nbformat": 4,
 "nbformat_minor": 2
}
