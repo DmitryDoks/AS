{
 "cells": [
  {
   "cell_type": "code",
   "execution_count": 10,
   "metadata": {},
   "outputs": [
    {
     "name": "stdout",
     "output_type": "stream",
     "text": [
      "4\n",
      "2\n",
      "/\n",
      "2.0\n"
     ]
    }
   ],
   "source": [
    "def arithmetic(a,b,c):\n",
    "    if a.isdigit() and b.isdigit():\n",
    "        if c==\"+\":\n",
    "            return int(a)+int(b)\n",
    "        if c==\"-\":\n",
    "            return int(a)-int(b)\n",
    "        if c==\"*\":\n",
    "            return int(a)*int(b)\n",
    "        if c==\"/\":\n",
    "            return int(a)/int(b)\n",
    "        else :\n",
    "            return \"Неизвестная операция\"\n",
    "        \n",
    "print(arithmetic(input(),input(),input()))\n",
    "        "
   ]
  },
  {
   "cell_type": "code",
   "execution_count": null,
   "metadata": {},
   "outputs": [],
   "source": []
  }
 ],
 "metadata": {
  "kernelspec": {
   "display_name": "Python 3",
   "language": "python",
   "name": "python3"
  },
  "language_info": {
   "codemirror_mode": {
    "name": "ipython",
    "version": 3
   },
   "file_extension": ".py",
   "mimetype": "text/x-python",
   "name": "python",
   "nbconvert_exporter": "python",
   "pygments_lexer": "ipython3",
   "version": "3.6.3"
  }
 },
 "nbformat": 4,
 "nbformat_minor": 2
}
