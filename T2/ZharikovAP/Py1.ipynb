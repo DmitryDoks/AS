{
 "cells": [
  {
   "cell_type": "code",
   "execution_count": 14,
   "metadata": {},
   "outputs": [
    {
     "name": "stdout",
     "output_type": "stream",
     "text": [
      "568\n",
      "false\n"
     ]
    }
   ],
   "source": [
    "def is_prime (var):\n",
    "    if  var.isdigit() and int(var)>=0 and int(var)<=1000:\n",
    "        var=int (var)\n",
    "        for i in range(2,int(var**(1/2))):\n",
    "            if var%i==0:\n",
    "                return \"false\"\n",
    "    return \"true\"\n",
    "    \n",
    "\n",
    "\n",
    "a=input()\n",
    "print(is_prime(a))"
   ]
  },
  {
   "cell_type": "code",
   "execution_count": null,
   "metadata": {},
   "outputs": [],
   "source": []
  },
  {
   "cell_type": "code",
   "execution_count": null,
   "metadata": {},
   "outputs": [],
   "source": []
  }
 ],
 "metadata": {
  "kernelspec": {
   "display_name": "Python 3",
   "language": "python",
   "name": "python3"
  },
  "language_info": {
   "codemirror_mode": {
    "name": "ipython",
    "version": 3
   },
   "file_extension": ".py",
   "mimetype": "text/x-python",
   "name": "python",
   "nbconvert_exporter": "python",
   "pygments_lexer": "ipython3",
   "version": "3.6.3"
  }
 },
 "nbformat": 4,
 "nbformat_minor": 2
}
