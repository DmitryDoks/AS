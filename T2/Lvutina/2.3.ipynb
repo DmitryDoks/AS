{
 "cells": [
  {
   "cell_type": "code",
   "execution_count": 2,
   "metadata": {},
   "outputs": [
    {
     "name": "stdout",
     "output_type": "stream",
     "text": [
      "[1, 3, 7, 6, 6, 4, 7, 3]\n",
      "Произведение чисел равно: 28\n"
     ]
    }
   ],
   "source": [
    "n = [ 1,3,-6,7,-5,6,-7,6,4,-9,7,-8,3 ] \n",
    "s = 13 \n",
    "i = 0 \n",
    "while i<s: \n",
    "    if n[i]<0: \n",
    "        del n[i] \n",
    "        s = s-1\n",
    "    else: \n",
    "        i = i+1 \n",
    "print(n)\n",
    "pr=n[0]* n[2]* n[5]\n",
    "print(\"Произведение чисел равно:\",pr)"
   ]
  },
  {
   "cell_type": "code",
   "execution_count": null,
   "metadata": {},
   "outputs": [],
   "source": []
  },
  {
   "cell_type": "code",
   "execution_count": null,
   "metadata": {},
   "outputs": [],
   "source": []
  }
 ],
 "metadata": {
  "kernelspec": {
   "display_name": "Python 3",
   "language": "python",
   "name": "python3"
  },
  "language_info": {
   "codemirror_mode": {
    "name": "ipython",
    "version": 3
   },
   "file_extension": ".py",
   "mimetype": "text/x-python",
   "name": "python",
   "nbconvert_exporter": "python",
   "pygments_lexer": "ipython3",
   "version": "3.5.4"
  }
 },
 "nbformat": 4,
 "nbformat_minor": 2
}
