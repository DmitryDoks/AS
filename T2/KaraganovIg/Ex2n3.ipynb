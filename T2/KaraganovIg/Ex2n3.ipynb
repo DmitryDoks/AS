{
 "cells": [
  {
   "cell_type": "code",
   "execution_count": 1,
   "metadata": {},
   "outputs": [
    {
     "name": "stdout",
     "output_type": "stream",
     "text": [
      "6\n",
      "4\n",
      "5\n",
      "6\n",
      "7\n",
      "8\n",
      "9\n",
      "4\n",
      "6\n",
      "9\n",
      "произведение=216\n"
     ]
    }
   ],
   "source": [
    "a = []\n",
    "b = []\n",
    "n = int(input())\n",
    "k = 0\n",
    "for i in range(n):\n",
    "    y = int(input())\n",
    "    a.append(y)\n",
    "for i in range(n):\n",
    "    if a[i]>0 :\n",
    "        b.append(a[i])\n",
    "        k = k+1\n",
    "if k>=1 :\n",
    "    if k>=3 :\n",
    "        if k>=6 :\n",
    "            s = b[0]*b[2]*b[5]\n",
    "            print(b[0])\n",
    "            print(b[2])\n",
    "            print(b[5])\n",
    "            print(\"произведение=%i\" %s)\n",
    "        else :\n",
    "            s = b[0]*b[2]\n",
    "            print(\"положительных чисел меньше 6\")\n",
    "            print(b[0])\n",
    "            print(b[2])\n",
    "            print(\"произведение=%i\" %s)\n",
    "    else : \n",
    "        print(\"положительных чисел меньше 3\")\n",
    "        print(b[0])\n",
    "else : \n",
    "        print(\"В списке нет положительных чисел\")"
   ]
  },
  {
   "cell_type": "code",
   "execution_count": null,
   "metadata": {},
   "outputs": [],
   "source": []
  }
 ],
 "metadata": {
  "kernelspec": {
   "display_name": "Python 3",
   "language": "python",
   "name": "python3"
  },
  "language_info": {
   "codemirror_mode": {
    "name": "ipython",
    "version": 3
   },
   "file_extension": ".py",
   "mimetype": "text/x-python",
   "name": "python",
   "nbconvert_exporter": "python",
   "pygments_lexer": "ipython3",
   "version": "3.6.3"
  }
 },
 "nbformat": 4,
 "nbformat_minor": 2
}
