{
 "cells": [
  {
   "cell_type": "code",
   "execution_count": 2,
   "metadata": {},
   "outputs": [
    {
     "name": "stdout",
     "output_type": "stream",
     "text": [
      "enter 1 value35\n",
      "enter 2 value7\n",
      "change from the list: +,-,/,*/\n",
      "5.0\n"
     ]
    }
   ],
   "source": [
    "def miniCalc(val1,val2,result):\n",
    "    if (result=='+') | (result=='-') | (result=='/') | (result=='*'):\n",
    "        case={\n",
    "            '+': val1+val2,\n",
    "            '-': val1-val2,\n",
    "            '*': val1*val2,\n",
    "            '/': val1/val2,\n",
    "        }\n",
    "        print(case[result])\n",
    "    else:\n",
    "        print(\"Неизвестная операция\")\n",
    "val1 = int(input(\"enter 1 value\"))\n",
    "val2 = int(input(\"enter 2 value\"))\n",
    "result = input(\"change from the list: +,-,/,*\")\n",
    "miniCalc(val1,val2,result)"
   ]
  },
  {
   "cell_type": "code",
   "execution_count": null,
   "metadata": {},
   "outputs": [],
   "source": []
  }
 ],
 "metadata": {
  "kernelspec": {
   "display_name": "Python 3",
   "language": "python",
   "name": "python3"
  },
  "language_info": {
   "codemirror_mode": {
    "name": "ipython",
    "version": 3
   },
   "file_extension": ".py",
   "mimetype": "text/x-python",
   "name": "python",
   "nbconvert_exporter": "python",
   "pygments_lexer": "ipython3",
   "version": "3.6.3"
  }
 },
 "nbformat": 4,
 "nbformat_minor": 2
}
