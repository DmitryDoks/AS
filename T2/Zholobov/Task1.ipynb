In [5]:
def is_prime(var):
    for i in range(2,var+1):
        a=0
        for j in range(2,i):
            if i%j==0:
                a=1
                break
        if a==0:
            print(i);
b=int(input("������� �����:"))
is_prime(b)