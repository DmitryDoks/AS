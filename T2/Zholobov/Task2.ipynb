def arithmetic(a,b,c):
    if (c=='+') | (c=='-') | (c=='/') | (c=='*'):
        case={
            '+': a+b,
            '-': a-b,
            '*': a*b,
            '/': a/b,
        }
        print(case[c])
    else:
        print("����������� ��������")
a = int(input("������� ������ �����"))
b = int(input("������� ������ �����"))
c = input("�������� �������� �� ������: +,-,/,*")
arithmetic(a,b,c)