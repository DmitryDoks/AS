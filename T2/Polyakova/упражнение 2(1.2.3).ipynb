{
 "cells": [
  {
   "cell_type": "code",
   "execution_count": 3,
   "metadata": {},
   "outputs": [
    {
     "name": "stdout",
     "output_type": "stream",
     "text": [
      "Vvedite chislo 15\n",
      "True\n"
     ]
    }
   ],
   "source": [
    "def is_prime(x):\n",
    "    f=True\n",
    "    for i in range(2,int(x**0.5)):\n",
    "        if x%i==0:\n",
    "            f=False\n",
    "    return(f)\n",
    "a=int(input('Vvedite chislo '))\n",
    "print(is_prime(a))"
   ]
  },
  {
   "cell_type": "code",
   "execution_count": 6,
   "metadata": {},
   "outputs": [
    {
     "ename": "SyntaxError",
     "evalue": "invalid character in identifier (<ipython-input-6-f8877443df15>, line 4)",
     "output_type": "error",
     "traceback": [
      "\u001b[1;36m  File \u001b[1;32m\"<ipython-input-6-f8877443df15>\"\u001b[1;36m, line \u001b[1;32m4\u001b[0m\n\u001b[1;33m    if c == \"+\":\u001b[0m\n\u001b[1;37m                ^\u001b[0m\n\u001b[1;31mSyntaxError\u001b[0m\u001b[1;31m:\u001b[0m invalid character in identifier\n"
     ]
    }
   ],
   "source": [
    "A=int(input(\"Введите первый аргумент: \"))\n",
    "b=int(input(\"Введите второй аргумент: \"))\n",
    "c=input(\"Введите третий аргумент: \")\n",
    "if c == \"+\": \n",
    "       print(a, \"+\", b, \"=\", a+b )\n",
    "elif c == \"-\":\n",
    "      print(a, \"-\", b, \"=\", a-b)\n",
    "elif c == \"*\":\n",
    "      print(a, \"*\", b, \"=, a*b\")\n",
    "elif c == \"/\":\n",
    "      print(a, \"/\", b, \"=\", a/b)\n",
    "else:\n",
    "      print(\"Неизвестная операция \")\n",
    "\n"
   ]
  },
  {
   "cell_type": "code",
   "execution_count": 4,
   "metadata": {},
   "outputs": [
    {
     "ename": "IndentationError",
     "evalue": "expected an indented block (<ipython-input-4-f78d0b9013bd>, line 5)",
     "output_type": "error",
     "traceback": [
      "\u001b[1;36m  File \u001b[1;32m\"<ipython-input-4-f78d0b9013bd>\"\u001b[1;36m, line \u001b[1;32m5\u001b[0m\n\u001b[1;33m    if n[i]<0:\u001b[0m\n\u001b[1;37m     ^\u001b[0m\n\u001b[1;31mIndentationError\u001b[0m\u001b[1;31m:\u001b[0m expected an indented block\n"
     ]
    }
   ],
   "source": [
    "n = [ 1,3,-6,7,-5,6,-7,6,4,-9,7,-8,3 ] \n",
    "s = 13 \n",
    "i = 0 \n",
    "while i<s: \n",
    "if n[i]<0: \n",
    "del n[i] \n",
    "s = s-1 \n",
    "else: \n",
    "i = i+1 \n",
    "print(n) \n",
    "pr=n[0]* n[2]* n[5] \n",
    "print(\"Произведение чисел равно:\",pr)"
   ]
  },
  {
   "cell_type": "code",
   "execution_count": null,
   "metadata": {},
   "outputs": [],
   "source": []
  }
 ],
 "metadata": {
  "kernelspec": {
   "display_name": "Python 3",
   "language": "python",
   "name": "python3"
  },
  "language_info": {
   "codemirror_mode": {
    "name": "ipython",
    "version": 3
   },
   "file_extension": ".py",
   "mimetype": "text/x-python",
   "name": "python",
   "nbconvert_exporter": "python",
   "pygments_lexer": "ipython3",
   "version": "3.6.3"
  }
 },
 "nbformat": 4,
 "nbformat_minor": 2
}
