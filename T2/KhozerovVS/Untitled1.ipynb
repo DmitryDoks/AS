{
 "cells": [
  {
   "cell_type": "code",
   "execution_count": 11,
   "metadata": {},
   "outputs": [
    {
     "name": "stdout",
     "output_type": "stream",
     "text": [
      "4.188666666666667\n"
     ]
    }
   ],
   "source": [
    "x = input((' metr baka: '))\n",
    "y = input(('Enter visoty baka: '))\n",
    "z = input(('Enter na kakuyu ploshad khvataet odnoy banki: ' ))\n",
    "number_4 = ((2*3.1415*(float(x)/2)*(float(x)/2)*float(x))/float(y))\n",
    "print(number_4)"
   ]
  },
  {
   "cell_type": "code",
   "execution_count": 45,
   "metadata": {},
   "outputs": [
    {
     "name": "stdout",
     "output_type": "stream",
     "text": [
      "povtoryaushichsya elementov net\n"
     ]
    }
   ],
   "source": [
    "arr = [1,2,3,4] \n",
    "arr1 = set(arr)\n",
    "if arr == arr1:\n",
    "    print('povtoryushiesya elementi est`')  \n",
    "else:\n",
    "    print('povtoryaushichsya elementov net')"
   ]
  },
  {
   "cell_type": "code",
   "execution_count": 63,
   "metadata": {},
   "outputs": [
    {
     "name": "stdout",
     "output_type": "stream",
     "text": [
      "for S1\n",
      "10\n",
      "0.1\n",
      "0.4\n",
      "0.5\n",
      "0.6\n",
      "0.7\n",
      "0.8\n",
      "0.9\n",
      "1.0\n",
      " \n",
      "for S2\n",
      "9\n",
      "0.1\n",
      "0.8\n",
      "0.9\n",
      "0.2\n",
      " \n",
      "for S3\n",
      "93\n",
      "4.5\n",
      "7.8\n",
      "9.3\n",
      "5.7\n"
     ]
    }
   ],
   "source": [
    "s1 = [1, 4, 5, 6, 7, 8, 9, 10 ]\n",
    "s2=[1,8,9,2]\n",
    "s3=[45,78,93,57]\n",
    "a1=max(s1) \n",
    "a2=max(s2)                 \n",
    "a3=max(s3)\n",
    "print('for S1')\n",
    "print(a1)\n",
    "for i in s1:\n",
    "    print(i/a)\n",
    "print(' ')\n",
    "print('for S2')\n",
    "print(a2)\n",
    "for i in s2:\n",
    "    print(i/a)\n",
    "print(' ')\n",
    "print('for S3')\n",
    "print(a3)\n",
    "for i in s3:\n",
    "    print(i/a)"
   ]
  },
  {
   "cell_type": "code",
   "execution_count": 80,
   "metadata": {},
   "outputs": [
    {
     "name": "stdout",
     "output_type": "stream",
     "text": [
      "\"Обратное\" ему число: 765\n"
     ]
    }
   ],
   "source": [
    "n1 = int(input(\"Введите целое число: \")) \n",
    "n2 = 0 \n",
    "\n",
    "while n1 > 0: \n",
    "    n3 = n1 % 10  \n",
    "    n1 = n1 // 10 \n",
    "    n2 = n2 * 10  \n",
    "    n2 = n2 + n3 \n",
    "\n",
    "print('\"Обратное\" ему число:',n2)"
   ]
  },
  {
   "cell_type": "code",
   "execution_count": 79,
   "metadata": {},
   "outputs": [
    {
     "name": "stdout",
     "output_type": "stream",
     "text": [
      "gh*jk*fd\n"
     ]
    }
   ],
   "source": [
    "s = input() \n",
    "l = s.split() \n",
    "s1 = '' \n",
    "for i in l: \n",
    "    s1 += i + '*' \n",
    "s1 = s1[:-1] \n",
    "print(s1)"
   ]
  }
 ],
 "metadata": {
  "kernelspec": {
   "display_name": "Python 3",
   "language": "python",
   "name": "python3"
  },
  "language_info": {
   "codemirror_mode": {
    "name": "ipython",
    "version": 3
   },
   "file_extension": ".py",
   "mimetype": "text/x-python",
   "name": "python",
   "nbconvert_exporter": "python",
   "pygments_lexer": "ipython3",
   "version": "3.6.3"
  }
 },
 "nbformat": 4,
 "nbformat_minor": 2
}
