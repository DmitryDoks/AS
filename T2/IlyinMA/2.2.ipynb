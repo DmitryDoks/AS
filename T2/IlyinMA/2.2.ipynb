def arithmetic(a,b,c):
    if (c=='+') | (c=='-') | (c=='/') | (c=='*'):
        case={
            '+': a+b,
            '-': a-b,
            '*': a*b,
            '/': a/b,
        }
        print(case[c])
    else:
        print("Неизвестная операция")
a = int(input("Введите первое число"))
b = int(input("Введите второе число"))
c = input("Выбирите действие из списка: +,-,/,*")
arithmetic(a,b,c)