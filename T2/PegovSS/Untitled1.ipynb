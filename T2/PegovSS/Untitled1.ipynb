{
 "cells": [
  {
   "cell_type": "code",
   "execution_count": 12,
   "metadata": {},
   "outputs": [
    {
     "name": "stdout",
     "output_type": "stream",
     "text": [
      "True\n"
     ]
    }
   ],
   "source": [
    "def is_prime(number):\n",
    "   \n",
    "    if number % 2 == 0 and number != 2:\n",
    "        return False\n",
    "    \n",
    "    if number == 0 or number == 1:\n",
    "        return False\n",
    "    for n in range(3, number):  \n",
    "        if number % n == 0:  \n",
    "            return False\n",
    "    return True  \n",
    "\n",
    "n = int(input('Введите число'))\n",
    "print(is_prime(n))"
   ]
  },
  {
   "cell_type": "code",
   "execution_count": 15,
   "metadata": {},
   "outputs": [
    {
     "ename": "SyntaxError",
     "evalue": "invalid character in identifier (<ipython-input-15-3b954fbf1072>, line 4)",
     "output_type": "error",
     "traceback": [
      "\u001b[1;36m  File \u001b[1;32m\"<ipython-input-15-3b954fbf1072>\"\u001b[1;36m, line \u001b[1;32m4\u001b[0m\n\u001b[1;33m    if c == \"+\":\u001b[0m\n\u001b[1;37m                ^\u001b[0m\n\u001b[1;31mSyntaxError\u001b[0m\u001b[1;31m:\u001b[0m invalid character in identifier\n"
     ]
    }
   ],
   "source": [
    "A=int(input(\"Введите первый аргумент: \"))\n",
    "b=int(input(\"Введите второй аргумент: \"))\n",
    "c=input(\"Введите третий аргумент: \")\n",
    "if c == \"+\": \n",
    "       print(a, \"+\", b, \"=\", a+b )\n",
    "elif c == \"-\":\n",
    "      print(a, \"-\", b, \"=\", a-b)\n",
    "elif c == \"*\":\n",
    "      print(a, \"*\", b, \"=, a*b\")\n",
    "elif c == \"/\":\n",
    "      print(a, \"/\", b, \"=\", a/b)\n",
    "else:\n",
    "      print(\"Неизвестная операция \")"
   ]
  },
  {
   "cell_type": "code",
   "execution_count": 4,
   "metadata": {},
   "outputs": [
    {
     "name": "stdout",
     "output_type": "stream",
     "text": [
      "[0, 7, -27, 49, -34, -8, -44, -15, -35, -24, 49, 34, 25, 17, -41, 3, 48, 14, -39, -27]\n",
      "Индексы элементов: 3 11 15\n",
      "49 * 34 * 3 = 4998\n"
     ]
    }
   ],
   "source": [
    "import random\n",
    "a = [round(random.random() * 100) - 50 for i in range(20)]\n",
    "print(a)\n",
    " \n",
    "i = j = 0\n",
    "i1 = i3 = i6 = -1\n",
    "while i < 20:\n",
    "    if a[i] > 0:\n",
    "        if j == 1:\n",
    "            i1 = i\n",
    "        elif j == 3:\n",
    "            i3 = i\n",
    "        elif j == 6:\n",
    "            i6 = i\n",
    "            break\n",
    "        j += 1\n",
    "    i += 1\n",
    " \n",
    "if i6 > 0:\n",
    "    mult = a[i1] * a[i3] * a[i6]\n",
    "    print(\"Индексы элементов:\", i1, i3, i6)\n",
    "    print(\"%d * %d * %d = %d\" % (a[i1], a[i3], a[i6], mult))"
   ]
  },
  {
   "cell_type": "code",
   "execution_count": null,
   "metadata": {},
   "outputs": [],
   "source": []
  }
 ],
 "metadata": {
  "kernelspec": {
   "display_name": "Python 3",
   "language": "python",
   "name": "python3"
  },
  "language_info": {
   "codemirror_mode": {
    "name": "ipython",
    "version": 3
   },
   "file_extension": ".py",
   "mimetype": "text/x-python",
   "name": "python",
   "nbconvert_exporter": "python",
   "pygments_lexer": "ipython3",
   "version": "3.6.3"
  }
 },
 "nbformat": 4,
 "nbformat_minor": 2
}
