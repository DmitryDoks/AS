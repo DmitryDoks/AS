{
 "cells": [
  {
   "cell_type": "code",
   "execution_count": 1,
   "metadata": {},
   "outputs": [
    {
     "name": "stdout",
     "output_type": "stream",
     "text": [
      "Input number: 56\n",
      "False\n"
     ]
    }
   ],
   "source": [
    "def is_prime(number):\n",
    "    if number > 1:\n",
    "        for item in range(2, number):\n",
    "            if number != item and number % item == 0:\n",
    "                return False\n",
    "        return True\n",
    "    else:\n",
    "        return False\n",
    "number = int(input(\"Input number: \"))\n",
    "a = is_prime(number)\n",
    "print(a)\n",
    "\n",
    "\n",
    "    \n",
    "          "
   ]
  },
  {
   "cell_type": "code",
   "execution_count": 3,
   "metadata": {},
   "outputs": [
    {
     "name": "stdout",
     "output_type": "stream",
     "text": [
      "4\n",
      "5\n",
      "*\n",
      "20\n"
     ]
    }
   ],
   "source": [
    "def arithmetic(a,b,c):\n",
    "    if c == '+':\n",
    "        return a+b\n",
    "    elif c == '-':\n",
    "        return a-b\n",
    "    elif c == '*':\n",
    "        return a*b\n",
    "    elif c == '/':\n",
    "        return a/b\n",
    "    else: \n",
    "        print(\"Неизвестная операция\")\n",
    "\n",
    "a = int(input())\n",
    "b = int(input())\n",
    "c = input()\n",
    "g = arithmetic(a,b,c)\n",
    "print(g)\n",
    "\n"
   ]
  },
  {
   "cell_type": "code",
   "execution_count": 5,
   "metadata": {},
   "outputs": [
    {
     "name": "stdout",
     "output_type": "stream",
     "text": [
      "4 8 9 7 2 7 3 9\n",
      "['4', '8', '9', '7', '2', '7', '3', '9']\n",
      "252\n"
     ]
    }
   ],
   "source": [
    "nabor = input().split()\n",
    "i=0\n",
    "while i<len(nabor):\n",
    "    if int(nabor[i])<0:\n",
    "        nabor.pop(i)\n",
    "    else:\n",
    "        i=i+1\n",
    "print(nabor)\n",
    "res=int(nabor[0])*int(nabor[2])*int(nabor[5])\n",
    "print (res)\n",
    "\n"
   ]
  },
  {
   "cell_type": "code",
   "execution_count": null,
   "metadata": {},
   "outputs": [],
   "source": []
  }
 ],
 "metadata": {
  "kernelspec": {
   "display_name": "Python 3",
   "language": "python",
   "name": "python3"
  },
  "language_info": {
   "codemirror_mode": {
    "name": "ipython",
    "version": 3
   },
   "file_extension": ".py",
   "mimetype": "text/x-python",
   "name": "python",
   "nbconvert_exporter": "python",
   "pygments_lexer": "ipython3",
   "version": "3.6.3"
  }
 },
 "nbformat": 4,
 "nbformat_minor": 2
}
