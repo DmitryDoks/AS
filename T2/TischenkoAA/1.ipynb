{
 "cells": [
  {
   "cell_type": "code",
   "execution_count": 4,
   "metadata": {},
   "outputs": [
    {
     "data": {
      "text/plain": [
       "True"
      ]
     },
     "execution_count": 4,
     "metadata": {},
     "output_type": "execute_result"
    }
   ],
   "source": [
    "def is_prime(x):\n",
    "    f=1\n",
    "    if x>1000 or x<0:\n",
    "        return None\n",
    "    for i in range(2,x):\n",
    "        if x%i==0:\n",
    "            f=0\n",
    "            break\n",
    "    if f==0:\n",
    "        return False\n",
    "    else: \n",
    "        return True\n",
    "a=int(input(\"Введите число:\")) \n",
    "is_prime(a)\n",
    "        "
   ]
  },
  {
   "cell_type": "code",
   "execution_count": null,
   "metadata": {},
   "outputs": [],
   "source": []
  }
 ],
 "metadata": {
  "kernelspec": {
   "display_name": "Python 3",
   "language": "python",
   "name": "python3"
  },
  "language_info": {
   "name": ""
  }
 },
 "nbformat": 4,
 "nbformat_minor": 2
}
