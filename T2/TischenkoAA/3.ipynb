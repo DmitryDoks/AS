{
 "cells": [
  {
   "cell_type": "code",
   "execution_count": 6,
   "metadata": {},
   "outputs": [
    {
     "name": "stdout",
     "output_type": "stream",
     "text": [
      "1\n",
      "3\n",
      "6\n",
      "Произведение 1-го,3-го,6-го элементов:\n",
      "18\n"
     ]
    }
   ],
   "source": [
    "f=0\n",
    "a=[]\n",
    "s=1\n",
    "n = int(input(\"Кол-во элементов:\"))\n",
    "for i in range(n):\n",
    "    x=int(input(\"Введите число(+ или -):\"))\n",
    "    a.append(x)\n",
    "i=0\n",
    "while f!=6 and i<n:\n",
    "    if a[i]>0:\n",
    "        f=f+1\n",
    "        if(f-1==0)or(f-1==2)or(f-1==5):\n",
    "            s=s*a[i]\n",
    "            print(a[i])\n",
    "    i=i+1\n",
    "print(\"Произведение 1-го,3-го,6-го элементов:\")\n",
    "print(s)"
   ]
  },
  {
   "cell_type": "code",
   "execution_count": null,
   "metadata": {},
   "outputs": [],
   "source": []
  }
 ],
 "metadata": {
  "kernelspec": {
   "display_name": "Python 3",
   "language": "python",
   "name": "python3"
  },
  "language_info": {
   "codemirror_mode": {
    "name": "ipython",
    "version": 3
   },
   "file_extension": ".py",
   "mimetype": "text/x-python",
   "name": "python",
   "nbconvert_exporter": "python",
   "pygments_lexer": "ipython3",
   "version": "3.6.3"
  }
 },
 "nbformat": 4,
 "nbformat_minor": 2
}
