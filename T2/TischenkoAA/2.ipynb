{
 "cells": [
  {
   "cell_type": "code",
   "execution_count": 2,
   "metadata": {},
   "outputs": [
    {
     "data": {
      "text/plain": [
       "5"
      ]
     },
     "execution_count": 2,
     "metadata": {},
     "output_type": "execute_result"
    }
   ],
   "source": [
    "def arithmetic(x,y,z):\n",
    "    if (z=='+') or (z=='-') or (z=='/') or (z=='*'):\n",
    "        case={\n",
    "            '+': x+y,\n",
    "            '-': x-y,\n",
    "            '*': x*y,\n",
    "            '/': x/y,\n",
    "        }\n",
    "        return case[z]\n",
    "    else:\n",
    "        print(\"Некорректный ввод\")\n",
    "        return None\n",
    "\n",
    "x = int(input(\"Введите первое число:\"))\n",
    "y = int(input(\"Введите второе число:\"))\n",
    "z = input(\"Выбирите действие: +,-,/,*\")\n",
    "arithmetic(x,y,z)"
   ]
  },
  {
   "cell_type": "code",
   "execution_count": null,
   "metadata": {},
   "outputs": [],
   "source": []
  }
 ],
 "metadata": {
  "kernelspec": {
   "display_name": "Python 3",
   "language": "python",
   "name": "python3"
  },
  "language_info": {
   "codemirror_mode": {
    "name": "ipython",
    "version": 3
   },
   "file_extension": ".py",
   "mimetype": "text/x-python",
   "name": "python",
   "nbconvert_exporter": "python",
   "pygments_lexer": "ipython3",
   "version": "3.6.3"
  }
 },
 "nbformat": 4,
 "nbformat_minor": 2
}
