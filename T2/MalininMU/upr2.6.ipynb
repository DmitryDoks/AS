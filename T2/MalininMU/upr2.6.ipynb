{
 "cells": [
  {
   "cell_type": "code",
   "execution_count": 7,
   "metadata": {},
   "outputs": [
    {
     "name": "stdout",
     "output_type": "stream",
     "text": [
      "Enter the amount of elements, then the elements\n",
      "6\n",
      "1\n",
      "2\n",
      "3\n",
      "5\n",
      "4\n",
      "6\n",
      "18\n"
     ]
    }
   ],
   "source": [
    "print(\"Enter the amount of elements, then the elements\")\n",
    "arr = []\n",
    "pos = []\n",
    "posNum = 0\n",
    "for i in range(int(input())):\n",
    "    arr.append(int(input()))\n",
    "for i in arr:\n",
    "    if i>0:\n",
    "        posNum+=1\n",
    "        pos.append(i)\n",
    "        \n",
    "if posNum >= 6:\n",
    "    print(pos[0]*pos[2]*pos[5])\n",
    "else:\n",
    "    print(\"Not enough positive numbers in list\")"
   ]
  },
  {
   "cell_type": "code",
   "execution_count": null,
   "metadata": {},
   "outputs": [],
   "source": []
  }
 ],
 "metadata": {
  "kernelspec": {
   "display_name": "Python 3",
   "language": "python",
   "name": "python3"
  },
  "language_info": {
   "codemirror_mode": {
    "name": "ipython",
    "version": 3
   },
   "file_extension": ".py",
   "mimetype": "text/x-python",
   "name": "python",
   "nbconvert_exporter": "python",
   "pygments_lexer": "ipython3",
   "version": "3.6.3"
  }
 },
 "nbformat": 4,
 "nbformat_minor": 2
}
