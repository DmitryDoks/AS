{
 "cells": [
  {
   "cell_type": "code",
   "execution_count": 6,
   "metadata": {},
   "outputs": [
    {
     "name": "stdout",
     "output_type": "stream",
     "text": [
      "Enter two numbers\n",
      "45\n",
      "8\n",
      "Enter sign\n",
      "r\n",
      "Uknown sign\n"
     ]
    }
   ],
   "source": [
    "def arithmetic(a, b, sign):\n",
    "    if sign == '+':\n",
    "        return a + b\n",
    "    elif sign == '-':\n",
    "        return a - b\n",
    "    elif sign == '*':\n",
    "        return a * b\n",
    "    elif sign == '/':\n",
    "        return float(a) / float(b)\n",
    "    else:\n",
    "        return \"Uknown sign\"\n",
    "\n",
    "print (\"Enter two numbers\")\n",
    "a = int(input())\n",
    "b = int(input())\n",
    "print (\"Enter sign\")\n",
    "s = input()\n",
    "print(arithmetic(a,b,s))"
   ]
  },
  {
   "cell_type": "code",
   "execution_count": null,
   "metadata": {},
   "outputs": [],
   "source": []
  }
 ],
 "metadata": {
  "kernelspec": {
   "display_name": "Python 3",
   "language": "python",
   "name": "python3"
  },
  "language_info": {
   "codemirror_mode": {
    "name": "ipython",
    "version": 3
   },
   "file_extension": ".py",
   "mimetype": "text/x-python",
   "name": "python",
   "nbconvert_exporter": "python",
   "pygments_lexer": "ipython3",
   "version": "3.6.3"
  }
 },
 "nbformat": 4,
 "nbformat_minor": 2
}
