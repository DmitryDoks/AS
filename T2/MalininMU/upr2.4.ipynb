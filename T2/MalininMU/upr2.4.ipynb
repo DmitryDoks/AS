{
 "cells": [
  {
   "cell_type": "code",
   "execution_count": 9,
   "metadata": {},
   "outputs": [
    {
     "name": "stdout",
     "output_type": "stream",
     "text": [
      "Enter the number\n",
      "45\n",
      "This number is prime: false\n"
     ]
    }
   ],
   "source": [
    "def is_prime (a):\n",
    "    if  (a.isdigit() and int(a)>=0 and int(a)<=1000):\n",
    "        a=int (a)\n",
    "        for i in range(2,int(a)):\n",
    "            if a%i==0:\n",
    "                return \"false\"\n",
    "    return \"true\"\n",
    "    \n",
    "\n",
    "print(\"Enter the number\")\n",
    "a=input()\n",
    "print(\"This number is prime:\",is_prime(a))"
   ]
  },
  {
   "cell_type": "code",
   "execution_count": null,
   "metadata": {},
   "outputs": [],
   "source": []
  },
  {
   "cell_type": "code",
   "execution_count": null,
   "metadata": {},
   "outputs": [],
   "source": []
  }
 ],
 "metadata": {
  "kernelspec": {
   "display_name": "Python 3",
   "language": "python",
   "name": "python3"
  },
  "language_info": {
   "codemirror_mode": {
    "name": "ipython",
    "version": 3
   },
   "file_extension": ".py",
   "mimetype": "text/x-python",
   "name": "python",
   "nbconvert_exporter": "python",
   "pygments_lexer": "ipython3",
   "version": "3.6.3"
  }
 },
 "nbformat": 4,
 "nbformat_minor": 2
}
