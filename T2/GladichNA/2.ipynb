{
 "cells": [
  {
   "cell_type": "code",
   "execution_count": 23,
   "metadata": {},
   "outputs": [
    {
     "name": "stdout",
     "output_type": "stream",
     "text": [
      "3\n"
     ]
    }
   ],
   "source": [
    "def arithmetic(a,b,c):\n",
    "    if (c=='+') | (c=='-') | (c=='/') | (c=='*'):\n",
    "        case={\n",
    "            '+': a+b,\n",
    "            '-': a-b,\n",
    "            '*': a*b,\n",
    "            '/': a/b,\n",
    "        }\n",
    "        print(case[c])\n",
    "    else:\n",
    "        print(\"Неизвестная операция\")\n",
    "a = int(input(\"Введите первое число\"))\n",
    "b = int(input(\"Введите второе число\"))\n",
    "c = input(\"Выбирите действие из списка: +,-,/,*\")\n",
    "arithmetic(a,b,c)"
   ]
  },
  {
   "cell_type": "code",
   "execution_count": null,
   "metadata": {},
   "outputs": [],
   "source": []
  },
  {
   "cell_type": "code",
   "execution_count": null,
   "metadata": {},
   "outputs": [],
   "source": []
  }
 ],
 "metadata": {
  "kernelspec": {
   "display_name": "Python 3",
   "language": "python",
   "name": "python3"
  },
  "language_info": {
   "codemirror_mode": {
    "name": "ipython",
    "version": 3
   },
   "file_extension": ".py",
   "mimetype": "text/x-python",
   "name": "python",
   "nbconvert_exporter": "python",
   "pygments_lexer": "ipython3",
   "version": "3.5.4"
  }
 },
 "nbformat": 4,
 "nbformat_minor": 2
}
