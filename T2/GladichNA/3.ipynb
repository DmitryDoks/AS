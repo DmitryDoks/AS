{
 "cells": [
  {
   "cell_type": "code",
   "execution_count": 15,
   "metadata": {},
   "outputs": [
    {
     "name": "stdout",
     "output_type": "stream",
     "text": [
      "Ваш список:\n",
      "[-2, -3, -6, 1, -3, 2, 6, 8, 6, 4]\n",
      "Первый положительный элемент:1\n",
      "Третий положительный элемент:6\n",
      "Шестой положительный элемент:4\n",
      "Произведение равно: 24\n"
     ]
    }
   ],
   "source": [
    "a=[]\n",
    "b=[]\n",
    "k=1\n",
    "n=int(input(\"Введите количество элементов списка:\"))\n",
    "for i in range(n):\n",
    "    new = int(input(\"Введите %i элемент списка\" %i))\n",
    "    a.append(new)\n",
    "print(\"Ваш список:\")\n",
    "print(a)\n",
    "for i in range(n):\n",
    "    if a[i] > 0:\n",
    "        b.append(a[i])\n",
    "j=0\n",
    "for i in b:\n",
    "    j += 1\n",
    "if j>=1:\n",
    "    print(\"Первый положительный элемент:%i\" %b[0])\n",
    "    k*=b[0]\n",
    "    if j>=3:\n",
    "        print(\"Третий положительный элемент:%i\" %b[2])\n",
    "        k*=b[2]\n",
    "        if j>=6:\n",
    "            print(\"Шестой положительный элемент:%i\" %b[5])\n",
    "            k*=b[5]\n",
    "        else:\n",
    "            print(\"В списке меньше шести положительных элементов\")\n",
    "    else:\n",
    "        print(\"В списке меньше трех положительных элементов\")\n",
    "else:\n",
    "    print(\"В списке нет положительных элементов\")\n",
    "print(\"Произведение равно: %i\" %k)"
   ]
  },
  {
   "cell_type": "code",
   "execution_count": null,
   "metadata": {},
   "outputs": [],
   "source": []
  }
 ],
 "metadata": {
  "kernelspec": {
   "display_name": "Python 3",
   "language": "python",
   "name": "python3"
  },
  "language_info": {
   "codemirror_mode": {
    "name": "ipython",
    "version": 3
   },
   "file_extension": ".py",
   "mimetype": "text/x-python",
   "name": "python",
   "nbconvert_exporter": "python",
   "pygments_lexer": "ipython3",
   "version": "3.5.4"
  }
 },
 "nbformat": 4,
 "nbformat_minor": 2
}
