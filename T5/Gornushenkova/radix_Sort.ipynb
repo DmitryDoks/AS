{
 "cells": [
  {
   "cell_type": "code",
   "execution_count": null,
   "metadata": {},
   "outputs": [],
   "source": [
    "\n",
    "\n",
    "\n",
    "\n",
    "def radixSort(aList):\n",
    "\n",
    "    Radix = 10\n",
    "\n",
    "    maxLength = False\n",
    "\n",
    "    tmp, placement = -1, 1\n",
    "\n",
    "    \n",
    "\n",
    "    while not maxLength:\n",
    "\n",
    "        maxLength = True\n",
    "\n",
    "        buckets = [list() for _ in range(Radix)]\n",
    "\n",
    "        for i in aList:\n",
    "\n",
    "            tmp = i // placement\n",
    "\n",
    "            buckets[tmp % Radix].append(i)\n",
    "\n",
    "            if maxLength and tmp > 0:\n",
    "\n",
    "                maxLength = False\n",
    "\n",
    "        a = 0\n",
    "\n",
    "        for b in range(Radix):\n",
    "\n",
    "            buck = buckets[b]\n",
    "\n",
    "            for i in buck:\n",
    "\n",
    "                aList[a] = i\n",
    "\n",
    "                a += 1\n",
    "\n",
    "        placement *= Radix\n",
    "\n",
    "    return aList\n",
    "\n",
    "\n",
    "\n",
    "a = radixSort([4, 30,33, 98, 333, 988, 998, 3012, 201, 78])\n",
    "\n",
    "print(a)"
   ]
  }
 ],
 "metadata": {
  "kernelspec": {
   "display_name": "Python 3",
   "language": "python",
   "name": "python3"
  },
  "language_info": {
   "codemirror_mode": {
    "name": "ipython",
    "version": 3
   },
   "file_extension": ".py",
   "mimetype": "text/x-python",
   "name": "python",
   "nbconvert_exporter": "python",
   "pygments_lexer": "ipython3",
   "version": "3.6.3"
  }
 },
 "nbformat": 4,
 "nbformat_minor": 2
}
