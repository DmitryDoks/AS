def radixSort(aList):
    Radix = 10
    maxLength = False
    tmp, placement = -1, 1
    
    while not maxLength:
        maxLength = True
        buckets = [list() for _ in range(Radix)]
        for i in aList:
            tmp = i // placement
            buckets[tmp % Radix].append(i)
            if maxLength and tmp > 0:
                maxLength = False
        a = 0
        for b in range(Radix):
            buck = buckets[b]
            for i in buck:
                aList[a] = i
                a += 1
        placement *= Radix
    return aList

a = radixSort([35,1,754,65,235,90,967,63,90,323,45])
print(a)