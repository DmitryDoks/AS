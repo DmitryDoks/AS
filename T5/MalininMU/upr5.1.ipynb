{
 "cells": [
  {
   "cell_type": "code",
   "execution_count": 5,
   "metadata": {},
   "outputs": [
    {
     "name": "stdout",
     "output_type": "stream",
     "text": [
      "2.174124240875244\n"
     ]
    }
   ],
   "source": [
    "import random\n",
    "import time\n",
    "\n",
    "def radixsort( alist ):\n",
    "    RADIX=10\n",
    "    maxLength= False\n",
    "    tmp , placement = -1, 1\n",
    "    \n",
    "    while not maxLength:\n",
    "        maxLength=True\n",
    "        buckets = [list() for _ in range ( RADIX )]\n",
    "        for i in alist:\n",
    "            tmp=i//placement\n",
    "            buckets[tmp % RADIX].append( i )\n",
    "            if maxLength and tmp>0:\n",
    "                maxLength= False\n",
    "        a=0\n",
    "        for b in range ( RADIX ):\n",
    "            buck = buckets[b]\n",
    "            for i in buck:\n",
    "                alist[a]= i\n",
    "                a+=1\n",
    "        placement*=RADIX\n",
    "    return alist\n",
    "\n",
    "arr=[]\n",
    "for i in range (1000000):\n",
    "    arr.append(random.randint(0,1000))\n",
    "    \n",
    "start_time = time.time()\n",
    "arr = radixsort(arr)\n",
    "print(time.time()-start_time)"
   ]
  },
  {
   "cell_type": "code",
   "execution_count": null,
   "metadata": {},
   "outputs": [],
   "source": []
  }
 ],
 "metadata": {
  "kernelspec": {
   "display_name": "Python 3",
   "language": "python",
   "name": "python3"
  },
  "language_info": {
   "codemirror_mode": {
    "name": "ipython",
    "version": 3
   },
   "file_extension": ".py",
   "mimetype": "text/x-python",
   "name": "python",
   "nbconvert_exporter": "python",
   "pygments_lexer": "ipython3",
   "version": "3.6.3"
  }
 },
 "nbformat": 4,
 "nbformat_minor": 2
}
