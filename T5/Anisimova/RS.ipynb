{
 "cells": [
  {
   "cell_type": "code",
   "execution_count": 5,
   "metadata": {},
   "outputs": [
    {
     "name": "stdout",
     "output_type": "stream",
     "text": [
      "[23, 34, 56, 67, 143, 345, 3334]\n"
     ]
    }
   ],
   "source": [
    "def radixsort( alist ):\n",
    "    RADIX=10\n",
    "    maxLength= False\n",
    "    tmp , placement = -1, 1\n",
    "    \n",
    "    while not maxLength:\n",
    "        maxLength=True\n",
    "        buckets = [list() for _ in range ( RADIX )]\n",
    "        for i in alist:\n",
    "            tmp=i//placement\n",
    "            buckets[tmp % RADIX].append( i )\n",
    "            if maxLength and tmp>0:\n",
    "                maxLength= False\n",
    "        a=0\n",
    "        for b in range ( RADIX ):\n",
    "            buck = buckets[b]\n",
    "            for i in buck:\n",
    "                alist[a]= i\n",
    "                a+=1\n",
    "        placement*=RADIX\n",
    "    return alist\n",
    "arr = [143, 56, 34, 67, 345, 3334, 23]\n",
    "sort = radixsort(arr)\n",
    "print(sort)"
   ]
  },
  {
   "cell_type": "code",
   "execution_count": null,
   "metadata": {},
   "outputs": [],
   "source": []
  }
 ],
 "metadata": {
  "kernelspec": {
   "display_name": "Python 3",
   "language": "python",
   "name": "python3"
  }
 },
 "nbformat": 4,
 "nbformat_minor": 2
}
