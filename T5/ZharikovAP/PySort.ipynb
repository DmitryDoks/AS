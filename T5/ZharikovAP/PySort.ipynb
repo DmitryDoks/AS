{
 "cells": [
  {
   "cell_type": "code",
   "execution_count": 12,
   "metadata": {},
   "outputs": [
    {
     "name": "stdout",
     "output_type": "stream",
     "text": [
      "end random\n",
      "time is:\n",
      "115.20387649536133\n"
     ]
    }
   ],
   "source": [
    "import random\n",
    "import time\n",
    "\n",
    "def radixsort( alist ):\n",
    "    RADIX=10\n",
    "    maxLength= False\n",
    "    tmp , placement = -1, 1\n",
    "    \n",
    "    while not maxLength:\n",
    "        maxLength=True\n",
    "        buckets = [list() for _ in range ( RADIX )]\n",
    "        for i in alist:\n",
    "            tmp=i//placement\n",
    "            buckets[tmp % RADIX].append( i )\n",
    "            if maxLength and tmp>0:\n",
    "                maxLength= False\n",
    "        a=0\n",
    "        for b in range ( RADIX ):\n",
    "            buck = buckets[b]\n",
    "            for i in buck:\n",
    "                alist[a]= i\n",
    "                a+=1\n",
    "        placement*=RADIX\n",
    "    return alist\n",
    "arr=[]\n",
    "for i in range (10000000):\n",
    "    arr.append(random.randint(0, 1000000))\n",
    "print (\"end random\")\n",
    "start_time = time.time()\n",
    "arr=radixsort(arr)\n",
    "finish_time = time.time()\n",
    "print (\"time is:\")\n",
    "print (finish_time-start_time)"
   ]
  },
  {
   "cell_type": "code",
   "execution_count": null,
   "metadata": {},
   "outputs": [],
   "source": []
  }
 ],
 "metadata": {
  "kernelspec": {
   "display_name": "Python 3",
   "language": "python",
   "name": "python3"
  },
  "language_info": {
   "codemirror_mode": {
    "name": "ipython",
    "version": 3
   },
   "file_extension": ".py",
   "mimetype": "text/x-python",
   "name": "python",
   "nbconvert_exporter": "python",
   "pygments_lexer": "ipython3",
   "version": "3.6.4"
  }
 },
 "nbformat": 4,
 "nbformat_minor": 2
}
