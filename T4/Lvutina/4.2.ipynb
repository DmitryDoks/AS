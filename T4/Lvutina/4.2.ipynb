{
 "cells": [
  {
   "cell_type": "code",
   "execution_count": 3,
   "metadata": {},
   "outputs": [
    {
     "name": "stdout",
     "output_type": "stream",
     "text": [
      "Исходный массив: [18, 14, 19, 3, 18]\n",
      "Отсортированный массив: [[3], [], [14], [18, 18], [19]]\n",
      "0.0009408541862114816\n"
     ]
    }
   ],
   "source": [
    "import timeit \n",
    "import random \n",
    "import math \n",
    "n = int(input(\"Введите количество элементов:\")) \n",
    "start_time = timeit.default_timer() \n",
    "arr = [] \n",
    "c = [] \n",
    "for i in range(n): \n",
    "    new = random.randint(1,20) \n",
    "    arr.append(new)\n",
    "print(\"Исходный массив:\",arr)\n",
    "maxV = max(arr) \n",
    "minV = min(arr) \n",
    "size = 4 \n",
    "count = math.floor((maxV - minV) / size) + 1 \n",
    "b = [] \n",
    "for i in range(count): \n",
    "    b.append([]) \n",
    "for i in range(n): \n",
    "     b[math.floor((arr[i] - minV) / size)].append(arr[i]) \n",
    "for i in range(count): \n",
    "    b[i] = sorted(b[i]) \n",
    "for i in range(count): \n",
    "    for j in range(len(b[i])): \n",
    "        c.append(b[i][j]) \n",
    "print(\"Отсортированный массив:\",b)\n",
    "elapsed = timeit.default_timer() - start_time \n",
    "print(elapsed)"
   ]
  },
  {
   "cell_type": "code",
   "execution_count": null,
   "metadata": {},
   "outputs": [],
   "source": []
  }
 ],
 "metadata": {
  "kernelspec": {
   "display_name": "Python 3",
   "language": "python",
   "name": "python3"
  },
  "language_info": {
   "codemirror_mode": {
    "name": "ipython",
    "version": 3
   },
   "file_extension": ".py",
   "mimetype": "text/x-python",
   "name": "python",
   "nbconvert_exporter": "python",
   "pygments_lexer": "ipython3",
   "version": "3.5.4"
  }
 },
 "nbformat": 4,
 "nbformat_minor": 2
}
