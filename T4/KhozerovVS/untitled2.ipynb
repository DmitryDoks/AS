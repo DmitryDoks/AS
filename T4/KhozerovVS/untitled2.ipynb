{
 "cells": [
  {
   "cell_type": "code",
   "execution_count": 3,
   "metadata": {},
   "outputs": [
    {
     "name": "stdout",
     "output_type": "stream",
     "text": [
      "0.006482410215539858\n"
     ]
    }
   ],
   "source": [
    "import timeit\n",
    "import random\n",
    "import math\n",
    "n = int(input(\"Введите количество элементов\"))\n",
    "start_time = timeit.default_timer()\n",
    "a = []\n",
    "c = []\n",
    "for i in range(n):\n",
    "    new = random.randint(1,20)\n",
    "    a.append(new)\n",
    "maxV = max(a)\n",
    "minV = min(a)\n",
    "size = 4\n",
    "count = math.floor((maxV - minV) / size) + 1\n",
    "b = []\n",
    "for i in range(count):\n",
    "    b.append([])\n",
    "for i in range(n):\n",
    "    b[math.floor((a[i] - minV) / size)].append(a[i])\n",
    "for i in range(count):\n",
    "    b[i] = sorted(b[i])   \n",
    "for i in range(count):\n",
    "    for j in range(len(b[i])):\n",
    "        c.append(b[i][j])\n",
    "elapsed = timeit.default_timer() - start_time\n",
    "print(elapsed)\n",
    "\n",
    "        "
   ]
  },
  {
   "cell_type": "code",
   "execution_count": null,
   "metadata": {},
   "outputs": [],
   "source": []
  },
  {
   "cell_type": "code",
   "execution_count": null,
   "metadata": {},
   "outputs": [],
   "source": []
  },
  {
   "cell_type": "code",
   "execution_count": null,
   "metadata": {},
   "outputs": [],
   "source": []
  },
  {
   "cell_type": "code",
   "execution_count": null,
   "metadata": {},
   "outputs": [],
   "source": []
  },
  {
   "cell_type": "code",
   "execution_count": null,
   "metadata": {},
   "outputs": [],
   "source": []
  },
  {
   "cell_type": "code",
   "execution_count": null,
   "metadata": {},
   "outputs": [],
   "source": []
  }
 ],
 "metadata": {
  "kernelspec": {
   "display_name": "Python 3",
   "language": "python",
   "name": "python3"
  },
  "language_info": {
   "codemirror_mode": {
    "name": "ipython",
    "version": 3
   },
   "file_extension": ".py",
   "mimetype": "text/x-python",
   "name": "python",
   "nbconvert_exporter": "python",
   "pygments_lexer": "ipython3",
   "version": "3.5.4"
  }
 },
 "nbformat": 4,
 "nbformat_minor": 2
}
