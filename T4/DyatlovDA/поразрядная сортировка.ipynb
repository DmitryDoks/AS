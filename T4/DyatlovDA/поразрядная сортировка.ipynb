{
 "cells": [
  {
   "cell_type": "code",
   "execution_count": 30,
   "metadata": {},
   "outputs": [
    {
     "name": "stdout",
     "output_type": "stream",
     "text": [
      "time is:\n",
      "2.08615779876709\n"
     ]
    }
   ],
   "source": [
    "import random\n",
    "import time\n",
    "def sort_porazryadam (arr):\n",
    "    b = [[] * 1 for i in range(1000)]\n",
    "    for i in range (len(arr)):\n",
    "        b[arr[i]//100].append(arr[i])\n",
    "    for i in range (1000):\n",
    "        b[i]=sorted(b[i])\n",
    "    index=0\n",
    "    for i in range (1000):\n",
    "        for j in range (len(b[i])):\n",
    "            arr[index]=b[i][j]\n",
    "            index+=1\n",
    "arr=[]\n",
    "for i in range (1000000):\n",
    "    arr.append(random.randint(0,10000))\n",
    "t1 = time.time()\n",
    "sort_porazryadam(arr)\n",
    "t2 = time.time()\n",
    "print (\"time is:\")\n",
    "print (t2-t1)"
   ]
  },
  {
   "cell_type": "code",
   "execution_count": null,
   "metadata": {},
   "outputs": [],
   "source": []
  },
  {
   "cell_type": "code",
   "execution_count": null,
   "metadata": {},
   "outputs": [],
   "source": []
  }
 ],
 "metadata": {
  "kernelspec": {
   "display_name": "Python 3",
   "language": "python",
   "name": "python3"
  },
  "language_info": {
   "codemirror_mode": {
    "name": "ipython",
    "version": 3
   },
   "file_extension": ".py",
   "mimetype": "text/x-python",
   "name": "python",
   "nbconvert_exporter": "python",
   "pygments_lexer": "ipython3",
   "version": "3.6.4"
  }
 },
 "nbformat": 4,
 "nbformat_minor": 2
}
