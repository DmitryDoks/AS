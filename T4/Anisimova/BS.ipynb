{
 "cells": [
  {
   "cell_type": "code",
   "execution_count": 3,
   "metadata": {},
   "outputs": [
    {
     "name": "stdout",
     "output_type": "stream",
     "text": [
      "0.002005338668823242\n"
     ]
    }
   ],
   "source": [
    "import time\n",
    "def bucketSort (arr):\n",
    "    b = [[] * 1 for i in range(1000)]\n",
    "    for i in range (len(arr)):\n",
    "        b[arr[i]//100].append(arr[i])\n",
    "    for i in range (1000):\n",
    "        b[i]=sorted(b[i])\n",
    "    index=0\n",
    "    for i in range (1000):\n",
    "        for j in range (len(b[i])):\n",
    "            arr[index]=b[i][j]\n",
    "            index+=1\n",
    "a=[98, 3467, 64, 456, 23, 90, 45, 453]\n",
    "start_time = time.time()\n",
    "bucketSort(a)\n",
    "finish_time = time.time()\n",
    "print (finish_time-start_time)"
   ]
  },
  {
   "cell_type": "code",
   "execution_count": null,
   "metadata": {},
   "outputs": [],
   "source": []
  }
 ],
 "metadata": {
  "kernelspec": {
   "display_name": "Python 3",
   "language": "python",
   "name": "python3"
  },
  "language_info": {
   "codemirror_mode": {
    "name": "ipython",
    "version": 3
   },
   "file_extension": ".py",
   "mimetype": "text/x-python",
   "name": "python",
   "nbconvert_exporter": "python",
   "pygments_lexer": "ipython3",
   "version": "3.6.3"
  }
 },
 "nbformat": 4,
 "nbformat_minor": 2
}
