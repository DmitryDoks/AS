{
 "cells": [
  {
   "cell_type": "code",
   "execution_count": 17,
   "metadata": {
    "collapsed": true
   },
   "outputs": [
    {
     "name": "stderr",
     "output_type": "stream",
     "text": [
      "/home/andrey/PycharmProjects/Test/venv/lib/python3.5/site-packages/matplotlib/axes/_axes.py:6462: UserWarning: The 'normed' kwarg is deprecated, and has been replaced by the 'density' kwarg.\n  warnings.warn(\"The 'normed' kwarg is deprecated, and has been \"\n"
     ]
    },
    {
     "data": {
      "image/png": "[encoded data removed]",
      "text/plain": [
       "<Figure size 432x288 with 1 Axes>"
      ]
     },
     "metadata": {},
     "output_type": "display_data"
    },
    {
     "name": "stdout",
     "output_type": "stream",
     "text": [
      "Сортировка началась\n"
     ]
    }
   ],
   "source": [
    "import time\n",
    "import numpy as np\n",
    "from random import randint\n",
    "import matplotlib.pyplot as plt\n",
    "def bucketSort (a,n):\n",
    "    minA=min(a)\n",
    "    k = (max(a)-minA)//n+1\n",
    "    buckets = [0]*n\n",
    "    for i in range(n):\n",
    "        buckets[i] = []\n",
    "\n",
    "    for i in a:\n",
    "        buckets[int((i - minA) // k)].append(i)\n",
    "        \n",
    "    for i in range(n):\n",
    "        buckets[i].sort()\n",
    "        \n",
    "    a.clear()\n",
    "    for i in range(n):\n",
    "        for c in buckets[i]:\n",
    "            a.append(c)\n",
    "\n",
    "\n",
    "lst = [randint(-100, 100) for i in range(10**6)]\n",
    "count, bins, ignored = plt.hist(lst, 50, normed = False)\n",
    "plt.plot(bins, np.ones_like(bins), linewidth=2, color='r')\n",
    "plt.show()\n",
    "\n",
    "start_time = time.time()\n",
    "bucketSort(lst,30)\n",
    "print(\"--- %s seconds ---\" % (time.time() - start_time))\n",
    "print(lst)"
   ]
  },
  {
   "cell_type": "code",
   "execution_count": null,
   "metadata": {},
   "outputs": [],
   "source": []
  }
 ],
 "metadata": {
  "kernelspec": {
   "display_name": "Python 2",
   "language": "python",
   "name": "python2"
  },
  "language_info": {
   "codemirror_mode": {
    "name": "ipython",
    "version": 2
   },
   "file_extension": ".py",
   "mimetype": "text/x-python",
   "name": "python",
   "nbconvert_exporter": "python",
   "pygments_lexer": "ipython2",
   "version": "2.7.6"
  }
 },
 "nbformat": 4,
 "nbformat_minor": 0
}
