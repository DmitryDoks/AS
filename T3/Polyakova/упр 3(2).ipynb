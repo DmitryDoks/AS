{
 "cells": [
  {
   "cell_type": "code",
   "execution_count": 1,
   "metadata": {},
   "outputs": [
    {
     "ename": "SyntaxError",
     "evalue": "invalid character in identifier (<ipython-input-1-0dc68458204b>, line 3)",
     "output_type": "error",
     "traceback": [
      "\u001b[1;36m  File \u001b[1;32m\"<ipython-input-1-0dc68458204b>\"\u001b[1;36m, line \u001b[1;32m3\u001b[0m\n\u001b[1;33m    mx=0;\u001b[0m\n\u001b[1;37m         ^\u001b[0m\n\u001b[1;31mSyntaxError\u001b[0m\u001b[1;31m:\u001b[0m invalid character in identifier\n"
     ]
    }
   ],
   "source": [
    "N=int(input('задайте размер массива  '));\n",
    "lst=input().split(' ');\n",
    "mx=0; \n",
    "for i in range (0,n):\n",
    "    if (int(lst[i])>mx):\n",
    "        mx=int(lst[i]);\n",
    "        k=1;\n",
    "    else:\n",
    "        if (int(lst[i])==mx): \n",
    "            k+=1;\n",
    "print(mx,k);\n",
    "\n",
    "задайте размер массива  10\n",
    "-15 10 14 7 21 19 13 21 11 17\n",
    "21 2\n",
    "\n"
   ]
  },
  {
   "cell_type": "code",
   "execution_count": null,
   "metadata": {},
   "outputs": [],
   "source": []
  }
 ],
 "metadata": {
  "kernelspec": {
   "display_name": "Python 3",
   "language": "python",
   "name": "python3"
  },
  "language_info": {
   "codemirror_mode": {
    "name": "ipython",
    "version": 3
   },
   "file_extension": ".py",
   "mimetype": "text/x-python",
   "name": "python",
   "nbconvert_exporter": "python",
   "pygments_lexer": "ipython3",
   "version": "3.6.3"
  }
 },
 "nbformat": 4,
 "nbformat_minor": 2
}
