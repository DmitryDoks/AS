{
 "cells": [
  {
   "cell_type": "code",
   "execution_count": 1,
   "metadata": {},
   "outputs": [
    {
     "name": "stdout",
     "output_type": "stream",
     "text": [
      "1000\n",
      "0.15658565343304193\n"
     ]
    }
   ],
   "source": [
    "import timeit\n",
    "import random\n",
    "n = int(input())\n",
    "start_time = timeit.default_timer()\n",
    "a = []\n",
    "for i in range(n):\n",
    "    b=random.randint(1,1000)\n",
    "    a.append(b)\n",
    "for i in range(n):\n",
    "    for j in range(n):\n",
    "        if a[j]>a[i] :\n",
    "            t = a[j]\n",
    "            a[j] = a[i]\n",
    "            a[i] = t\n",
    "elapsed = timeit.default_timer() - start_time\n",
    "print(elapsed)"
   ]
  },
  {
   "cell_type": "code",
   "execution_count": null,
   "metadata": {},
   "outputs": [],
   "source": []
  }
 ],
 "metadata": {
  "kernelspec": {
   "display_name": "Python 3",
   "language": "python",
   "name": "python3"
  },
  "language_info": {
   "codemirror_mode": {
    "name": "ipython",
    "version": 3
   },
   "file_extension": ".py",
   "mimetype": "text/x-python",
   "name": "python",
   "nbconvert_exporter": "python",
   "pygments_lexer": "ipython3",
   "version": "3.6.3"
  }
 },
 "nbformat": 4,
 "nbformat_minor": 2
}
