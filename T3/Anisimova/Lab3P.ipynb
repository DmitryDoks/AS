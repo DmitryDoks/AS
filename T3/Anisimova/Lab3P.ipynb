{
 "cells": [
  {
   "cell_type": "code",
   "execution_count": 1,
   "metadata": {},
   "outputs": [
    {
     "name": "stdout",
     "output_type": "stream",
     "text": [
      "[1, 2, 3, 3, 5, 6, 7, 12, 66, 78, 443]\n"
     ]
    }
   ],
   "source": [
    "def bubblesort(arr):\n",
    "    n = 1 \n",
    "    while n < len(li):\n",
    "        for i in range(len(li)-n):\n",
    "            if li[i] > li[i+1]:\n",
    "                li[i],li[i+1] = li[i+1],li[i]\n",
    "        n += 1\n",
    "\n",
    "li = [1, 2,5,6,3,7,3,78,66,443,12]  \n",
    "a = bubblesort(li)\n",
    "print(li)\n",
    "        \n",
    "\n"
   ]
  },
  {
   "cell_type": "code",
   "execution_count": null,
   "metadata": {},
   "outputs": [],
   "source": []
  }
 ],
 "metadata": {
  "kernelspec": {
   "display_name": "Python 3",
   "language": "python",
   "name": "python3"
  },
  "language_info": {
   "codemirror_mode": {
    "name": "ipython",
    "version": 3
   },
   "file_extension": ".py",
   "mimetype": "text/x-python",
   "name": "python",
   "nbconvert_exporter": "python",
   "pygments_lexer": "ipython3",
   "version": "3.6.3"
  }
 },
 "nbformat": 4,
 "nbformat_minor": 2
}
