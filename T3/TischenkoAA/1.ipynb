{
 "cells": [
  {
   "cell_type": "code",
   "execution_count": 8,
   "metadata": {},
   "outputs": [
    {
     "name": "stdout",
     "output_type": "stream",
     "text": [
      "Размер: 10000\n",
      "Время:20.982200145721436\n"
     ]
    }
   ],
   "source": [
    "import random\n",
    "import time\n",
    "\n",
    "def sort(array):\n",
    "    for i in range(1,len(array)):\n",
    "        j=0\n",
    "        for j in range(len(array) - i):\n",
    "            if array[j] > array[j+1]:\n",
    "                f = array[j]\n",
    "                array[j] = array[j+1]\n",
    "                array[j+1] = f\n",
    "def test(size):\n",
    "    arr = []\n",
    "    for i in range(size):\n",
    "        arr.append(random.randint(1,100000))\n",
    "\n",
    "    start_time = time.time()\n",
    "    print(\"Размер: %s\" % size)\n",
    "    sort(arr);\n",
    "    print(\"Время:%s\" % (time.time() - start_time))\n",
    "size=int(input(\"Введите размер массива\"))\n",
    "test(size)"
   ]
  },
  {
   "cell_type": "code",
   "execution_count": null,
   "metadata": {},
   "outputs": [],
   "source": []
  }
 ],
 "metadata": {
  "kernelspec": {
   "display_name": "Python 3",
   "language": "python",
   "name": "python3"
  },
  "language_info": {
   "codemirror_mode": {
    "name": "ipython",
    "version": 3
   },
   "file_extension": ".py",
   "mimetype": "text/x-python",
   "name": "python",
   "nbconvert_exporter": "python",
   "pygments_lexer": "ipython3",
   "version": "3.6.3"
  }
 },
 "nbformat": 4,
 "nbformat_minor": 2
}
