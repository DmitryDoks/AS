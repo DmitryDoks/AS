{
 "cells": [
  {
   "cell_type": "code",
   "execution_count": null,
   "metadata": {},
   "outputs": [],
   "source": [
    "import random\n",
    "import timeit \n",
    "\n",
    "li=[int(1000*random.random()) for i in range(1, 100000)]\n",
    "n = len(li) \n",
    "start_time = timeit.default_timer()\n",
    "for j in range(0,n-1): \n",
    "    for i in range(0,n-j-1):\n",
    "        if li[i] > li[i+1]:\n",
    "            li[i],li[i + 1] = li[i + 1], li[i]\n",
    "print (\"Сортировка выполняется за \",timeit.default_timer()-start_time)\n",
    "print(li)\n",
    "\n"
   ]
  },
  {
   "cell_type": "code",
   "execution_count": null,
   "metadata": {},
   "outputs": [],
   "source": []
  }
 ],
 "metadata": {
  "kernelspec": {
   "display_name": "Python 3",
   "language": "python",
   "name": "python3"
  },
  "language_info": {
   "codemirror_mode": {
    "name": "ipython",
    "version": 3
   },
   "file_extension": ".py",
   "mimetype": "text/x-python",
   "name": "python",
   "nbconvert_exporter": "python",
   "pygments_lexer": "ipython3",
   "version": "3.6.3"
  }
 },
 "nbformat": 4,
 "nbformat_minor": 2
}
