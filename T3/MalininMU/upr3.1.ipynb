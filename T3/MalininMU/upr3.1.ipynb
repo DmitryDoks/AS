{
 "cells": [
  {
   "cell_type": "code",
   "execution_count": 16,
   "metadata": {},
   "outputs": [
    {
     "name": "stdout",
     "output_type": "stream",
     "text": [
      "10000\n",
      "8.198468923568726\n"
     ]
    }
   ],
   "source": [
    "import random\n",
    "import time\n",
    "\n",
    "def insertSort(arr):\n",
    "    for i in range(1,length):\n",
    "        key = arr[i]\n",
    "        j = i - 1\n",
    "        while j >=0 and key < arr[j]:\n",
    "            arr[j+1] = arr[j]\n",
    "            j -=1\n",
    "        arr[j+1]=key\n",
    "\n",
    "length = int(input())\n",
    "arr = []\n",
    "for i in range(0,length):\n",
    "    arr.append(random.randint(1,9999))\n",
    "\n",
    "start_time = time.time()\n",
    "insertSort(arr)\n",
    "elapsed  = time.time() - start_time\n",
    "print(elapsed)"
   ]
  },
  {
   "cell_type": "code",
   "execution_count": null,
   "metadata": {},
   "outputs": [],
   "source": []
  },
  {
   "cell_type": "code",
   "execution_count": null,
   "metadata": {},
   "outputs": [],
   "source": []
  }
 ],
 "metadata": {
  "kernelspec": {
   "display_name": "Python 3",
   "language": "python",
   "name": "python3"
  }
 },
 "nbformat": 4,
 "nbformat_minor": 2
}
