{
 "cells": [
  {
   "cell_type": "code",
   "execution_count": 23,
   "metadata": {},
   "outputs": [
    {
     "name": "stdout",
     "output_type": "stream",
     "text": [
      "1 2 3\n",
      "3\n",
      "2\n",
      "1\n"
     ]
    }
   ],
   "source": [
    "def Size(stack):\n",
    "    count = 0\n",
    "    for i in stack:\n",
    "        count+=1    \n",
    "    return count\n",
    "    \n",
    "def isEmpty(stack):\n",
    "    if Size(stack) == 0:\n",
    "        return True\n",
    "    else:\n",
    "        return False\n",
    "    \n",
    "def Push(stack,memes):\n",
    "    stack.append(memes)\n",
    "    \n",
    "def Pop(stack):\n",
    "    if (isEmpty(stack) == False):\n",
    "        stack.pop()\n",
    "        \n",
    "def Top(stack):\n",
    "    return stack[Size(stack)-1]\n",
    "\n",
    "stack=[]\n",
    "\n",
    "s=input()\n",
    "s=s.split()\n",
    "for i in s:\n",
    "    Push(stack,i)\n",
    "while (Size(stack) != 0):\n",
    "    print(Top(stack))\n",
    "    Pop(stack)"
   ]
  }
 ],
 "metadata": {
  "kernelspec": {
   "display_name": "Python 3",
   "language": "python",
   "name": "python3"
  },
  "language_info": {
   "codemirror_mode": {
    "name": "ipython",
    "version": 3
   },
   "file_extension": ".py",
   "mimetype": "text/x-python",
   "name": "python",
   "nbconvert_exporter": "python",
   "pygments_lexer": "ipython3",
   "version": "3.6.3"
  }
 },
 "nbformat": 4,
 "nbformat_minor": 2
}
