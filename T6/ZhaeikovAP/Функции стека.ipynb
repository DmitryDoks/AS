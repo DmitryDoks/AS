{
 "cells": [
  {
   "cell_type": "code",
   "execution_count": 9,
   "metadata": {},
   "outputs": [
    {
     "name": "stdout",
     "output_type": "stream",
     "text": [
      "6\n",
      "[10, 20, 30, 0, 16, 63, 1, 4, 8]\n",
      "True\n",
      "False\n",
      "0\n",
      "10\n"
     ]
    }
   ],
   "source": [
    "b=[10,20,30,0,16,63,1,4,8,6]\n",
    "empty=[]\n",
    "\n",
    "def stackTop(a):\n",
    "    return a[len(a)-1]\n",
    "def stackPop(a):\n",
    "    a = a[:len(a)-1]\n",
    "    return a\n",
    "def stackIsEmpty(a):\n",
    "    if len(a)==0:\n",
    "        return True\n",
    "    else:\n",
    "        return False\n",
    "def stackSize(a):\n",
    "    return len(a)\n",
    "\n",
    "print(stackTop(b))\n",
    "print(stackPop(b))\n",
    "print(stackIsEmpty(empty))\n",
    "print(stackIsEmpty(b))\n",
    "print(stackSize(empty))\n",
    "print(stackSize(b))"
   ]
  },
  {
   "cell_type": "code",
   "execution_count": null,
   "metadata": {},
   "outputs": [],
   "source": []
  }
 ],
 "metadata": {
  "kernelspec": {
   "display_name": "Python 3",
   "language": "python",
   "name": "python3"
  },
  "language_info": {
   "codemirror_mode": {
    "name": "ipython",
    "version": 3
   },
   "file_extension": ".py",
   "mimetype": "text/x-python",
   "name": "python",
   "nbconvert_exporter": "python",
   "pygments_lexer": "ipython3",
   "version": "3.6.3"
  }
 },
 "nbformat": 4,
 "nbformat_minor": 2
}
