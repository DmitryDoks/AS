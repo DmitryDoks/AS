{
 "cells": [
  {
   "cell_type": "code",
   "execution_count": 1,
   "metadata": {},
   "outputs": [
    {
     "name": "stdout",
     "output_type": "stream",
     "text": [
      "3\n",
      "1\n",
      "2\n",
      "3\n"
     ]
    }
   ],
   "source": [
    "a = []\n",
    "def size():\n",
    "    c = 0\n",
    "    for i in range(len(a)):\n",
    "        c = c + 1\n",
    "    return c\n",
    "def isEmpty():\n",
    "    global a\n",
    "    if(size() == 0):\n",
    "        return 1\n",
    "    else:\n",
    "        return 0\n",
    "def push(new):\n",
    "    global a\n",
    "    a.append(new)\n",
    "def top():\n",
    "    global a \n",
    "    return a[size()-1]\n",
    "def pop():\n",
    "    global a\n",
    "    del a[size()-1]\n",
    "n = int(input(\"Введите количество элементов\"))\n",
    "for i in range(n):\n",
    "    new = int(input(\"Введите %i элемент\" % i))\n",
    "    push(new)\n",
    "print(size())\n",
    "while (isEmpty() == 0):\n",
    "    print(top())\n",
    "    pop()\n",
    "    \n",
    "\n"
   ]
  },
  {
   "cell_type": "code",
   "execution_count": null,
   "metadata": {},
   "outputs": [],
   "source": []
  }
 ],
 "metadata": {
  "kernelspec": {
   "display_name": "Python 3",
   "language": "python",
   "name": "python3"
  },
  "language_info": {
   "codemirror_mode": {
    "name": "ipython",
    "version": 3
   },
   "file_extension": ".py",
   "mimetype": "text/x-python",
   "name": "python",
   "nbconvert_exporter": "python",
   "pygments_lexer": "ipython3",
   "version": "3.5.4"
  }
 },
 "nbformat": 4,
 "nbformat_minor": 2
}
