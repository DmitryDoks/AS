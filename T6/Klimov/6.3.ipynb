{
 "cells": [
  {
   "cell_type": "code",
   "execution_count": 1,
   "metadata": {},
   "outputs": [
    {
     "name": "stdout",
     "output_type": "stream",
     "text": [
      "0\n"
     ]
    }
   ],
   "source": [
    "a=[1,2,3]\n",
    "def isEmpty ():\n",
    "    global a\n",
    "    if len(a)==0:\n",
    "        return 1\n",
    "    else:\n",
    "        return 0\n",
    "        \n",
    "print(isEmpty())"
   ]
  },
  {
   "cell_type": "code",
   "execution_count": 2,
   "metadata": {},
   "outputs": [
    {
     "name": "stdout",
     "output_type": "stream",
     "text": [
      "[1, 2, 3, 17]\n"
     ]
    }
   ],
   "source": [
    "a=[1 , 2 , 3 ]\n",
    "def push(a1):\n",
    "    global a\n",
    "    l.append(a1)\n",
    "\n",
    "push(17)\n",
    "print (a)"
   ]
  },
  {
   "cell_type": "code",
   "execution_count": 3,
   "metadata": {},
   "outputs": [
    {
     "name": "stdout",
     "output_type": "stream",
     "text": [
      "[1, 2, 4, 5]\n"
     ]
    }
   ],
   "source": [
    "\n",
    "a=[1 , 2 , 3 ,4,5]\n",
    "def pop():\n",
    "    global a\n",
    "    a.remove(3)\n",
    "\n",
    "pop()\n",
    "print (a)"
   ]
  },
  {
   "cell_type": "code",
   "execution_count": 4,
   "metadata": {},
   "outputs": [
    {
     "name": "stdout",
     "output_type": "stream",
     "text": [
      "9\n"
     ]
    }
   ],
   "source": [
    "a=[1 , 2 , 3,4,5,64,79,12,57 ]\n",
    "def size():\n",
    "    global a\n",
    "    k=0\n",
    "    i=0\n",
    "    for i in a:\n",
    "        k=k+1\n",
    "    print(k)\n",
    "size()"
   ]
  },
  {
   "cell_type": "code",
   "execution_count": null,
   "metadata": {},
   "outputs": [],
   "source": []
  }
 ],
 "metadata": {
  "kernelspec": {
   "display_name": "Python 3",
   "language": "python",
   "name": "python3"
  },
  "language_info": {
   "codemirror_mode": {
    "name": "ipython",
    "version": 3
   },
   "file_extension": ".py",
   "mimetype": "text/x-python",
   "name": "python",
   "nbconvert_exporter": "python",
   "pygments_lexer": "ipython3",
   "version": "3.5.4"
  }
 },
 "nbformat": 4,
 "nbformat_minor": 2
}
