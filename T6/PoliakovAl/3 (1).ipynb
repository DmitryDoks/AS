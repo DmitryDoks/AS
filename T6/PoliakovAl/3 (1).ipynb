{
 "cells": [
  {
   "cell_type": "code",
   "execution_count": null,
   "metadata": {},
   "outputs": [],
   "source": [
    "x = []\n",
    "def size():\n",
    "    c = 0\n",
    "    for i in range(len(x)):\n",
    "        c = c + 1\n",
    "    return c\n",
    "def isEmpty():\n",
    "    global x\n",
    "    if(size() == 0):\n",
    "        return 1\n",
    "    else:\n",
    "        return 0\n",
    "def push(new):\n",
    "    global x\n",
    "    x.append(new)\n",
    "def top():\n",
    "    global x\n",
    "    return x[size()-1]\n",
    "def pop():\n",
    "    global x\n",
    "    del x[size()-1]\n",
    "n = int(input(\"Введите кол-во элементов\"))\n",
    "for i in range(n):\n",
    "    new = int(input(\"Введите %i элемент\" % i))\n",
    "    push(new)\n",
    "print(size())\n",
    "while (isEmpty() == 0):\n",
    "    print(top())\n",
    "    pop()\n",
    "    \n",
    "\n"
   ]
  },
  {
   "cell_type": "code",
   "execution_count": null,
   "metadata": {},
   "outputs": [],
   "source": []
  }
 ],
 "metadata": {
  "kernelspec": {
   "display_name": "Python 3",
   "language": "python",
   "name": "python3"
  },
  "language_info": {
   "codemirror_mode": {
    "name": "ipython",
    "version": 3
   },
   "file_extension": ".py",
   "mimetype": "text/x-python",
   "name": "python",
   "nbconvert_exporter": "python",
   "pygments_lexer": "ipython3",
   "version": "3.5.4"
  }
 },
 "nbformat": 4,
 "nbformat_minor": 2
}
