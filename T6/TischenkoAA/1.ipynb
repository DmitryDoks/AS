{
 "cells": [
  {
   "cell_type": "code",
   "execution_count": 1,
   "metadata": {},
   "outputs": [
    {
     "name": "stdout",
     "output_type": "stream",
     "text": [
      "Кол-во элементов в стэке: 5\n",
      "Содежимое стэка:\n",
      "5\n",
      "4\n",
      "3\n",
      "2\n",
      "1\n"
     ]
    }
   ],
   "source": [
    "arr = []\n",
    "def size():\n",
    "    q = 0\n",
    "    for i in range(len(arr)):\n",
    "        q = q + 1\n",
    "    return q\n",
    "def isEmpty():\n",
    "    global arr\n",
    "    if(size() == 0):\n",
    "        return 1\n",
    "    else:\n",
    "        return 0\n",
    "def push(new):\n",
    "    global arr\n",
    "    arr.append(new)\n",
    "def top():\n",
    "    global arr\n",
    "    return arr[size()-1]\n",
    "def pop():\n",
    "    global arr\n",
    "    del arr[size()-1]\n",
    "n = int(input(\"Введите кол-во элементов:\"))\n",
    "for i in range(n):\n",
    "    new = int(input(\"Введите элемент:\"))\n",
    "    push(new)\n",
    "print(\"Кол-во элементов в стэке:\",size())\n",
    "print(\"Содежимое стэка:\")\n",
    "while (isEmpty() == 0):\n",
    "    print(top())\n",
    "    pop()\n",
    "    "
   ]
  },
  {
   "cell_type": "code",
   "execution_count": null,
   "metadata": {},
   "outputs": [],
   "source": []
  }
 ],
 "metadata": {
  "kernelspec": {
   "display_name": "Python 3",
   "language": "python",
   "name": "python3"
  },
  "language_info": {
   "codemirror_mode": {
    "name": "ipython",
    "version": 3
   },
   "file_extension": ".py",
   "mimetype": "text/x-python",
   "name": "python",
   "nbconvert_exporter": "python",
   "pygments_lexer": "ipython3",
   "version": "3.6.3"
  }
 },
 "nbformat": 4,
 "nbformat_minor": 2
}
