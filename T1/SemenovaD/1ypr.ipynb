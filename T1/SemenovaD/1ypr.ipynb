{
 "cells": [
  {
   "cell_type": "code",
   "execution_count": 8,
   "metadata": {},
   "outputs": [
    {
     "name": "stdout",
     "output_type": "stream",
     "text": [
      "Количество требуемых банок =  5\n"
     ]
    }
   ],
   "source": [
    "D = input (\"Какой диаметр у вашего бака? \")\n",
    "D = float(D)\n",
    "H = input (\"Какая высота у вашего бака?\")\n",
    "H = float(H)\n",
    "B = input (\"Какую площадь можно окрасить одной банкой краски?\")\n",
    "B = float(B)\n",
    "\n",
    " \n",
    "import math\n",
    "\n",
    "\n",
    "S = (math.pi * (D/2)**2) * 4 + (math.pi * D * H) * 2 # т.к 4 поверхности круга и 2 поверхности цилиндра\n",
    "banki = S / B\n",
    "banki = int(banki) + 1 \n",
    "print (\"Количество требуемых банок = \", banki) \n"
   ]
  },
  {
   "cell_type": "code",
   "execution_count": 18,
   "metadata": {},
   "outputs": [
    {
     "name": "stdout",
     "output_type": "stream",
     "text": [
      "[1, 1, 1]\n",
      "Есть одинаковые\n",
      "Есть одинаковые\n",
      "Есть одинаковые\n"
     ]
    }
   ],
   "source": [
    "from random import random\n",
    "\n",
    "n = 3\n",
    "\n",
    "arr = [0] * n\n",
    "for i in range(n):\n",
    "     arr[i] = int(random()*n)\n",
    "print(arr)\n",
    "for i in range(n-1):\n",
    "    for k in range(i+1,n):\n",
    "        if arr[i] == arr[k]:\n",
    "            print(\"Есть одинаковые\")\n",
    "        elif  arr[i] != arr[k]:\n",
    "            print(\"Нет одинаковых\")"
   ]
  },
  {
   "cell_type": "code",
   "execution_count": 6,
   "metadata": {},
   "outputs": [
    {
     "name": "stdout",
     "output_type": "stream",
     "text": [
      "[22, 17, 1, 2, 4]\n",
      "[0, 1, 2, 3, 4, 5, 6, 7, 8, 9, 10, 11]\n",
      "22\n",
      "11\n",
      "[1.0, 0.7727272727272727, 0.045454545454545456, 0.09090909090909091, 0.18181818181818182]\n",
      "[0.0, 0.09090909090909091, 0.18181818181818182, 0.2727272727272727, 0.36363636363636365, 0.45454545454545453, 0.5454545454545454, 0.6363636363636364, 0.7272727272727273, 0.8181818181818182, 0.9090909090909091, 1.0]\n"
     ]
    }
   ],
   "source": [
    "\n",
    "list1 = [22,17,1,2,4]\n",
    "print (list1)\n",
    "\n",
    "list2 = list(range (12))\n",
    "print(list2)\n",
    "\n",
    "y = max (list1)\n",
    "print (y)\n",
    "\n",
    "z = max (list2)\n",
    "print (z) \n",
    "\n",
    "\n",
    "a = [ list1 / y for list1 in list1]\n",
    "print (a)\n",
    "\n",
    "b = [ list2 / z for list2 in list2]\n",
    "print (b) "
   ]
  },
  {
   "cell_type": "code",
   "execution_count": 8,
   "metadata": {},
   "outputs": [
    {
     "name": "stdout",
     "output_type": "stream",
     "text": [
      " 5\n",
      " 54\n",
      " 543\n"
     ]
    }
   ],
   "source": [
    "a = list(input ('Введите число '))\n",
    "b = ' ' \n",
    "a.reverse() \n",
    "for i in range(len(a)):\n",
    "    b = ( str(b) + str(a[i]))\n",
    "   \n",
    "    print(b) \n"
   ]
  },
  {
   "cell_type": "code",
   "execution_count": null,
   "metadata": {},
   "outputs": [],
   "source": []
  },
  {
   "cell_type": "code",
   "execution_count": 7,
   "metadata": {},
   "outputs": [
    {
     "name": "stdout",
     "output_type": "stream",
     "text": [
      "dfg*sdfg*sdcfg/\n"
     ]
    }
   ],
   "source": [
    "s = input(\"Введите строку\")\n",
    " \n",
    "i = 0\n",
    "while s[i] == ' ': i+=1\n",
    "s = s[i:]\n",
    " \n",
    "i = len(s)\n",
    "while s[i-1] == ' ': i-=1\n",
    "s = s[:i]\n",
    " \n",
    "s1 = s[0]\n",
    "i = 1\n",
    "while i < len(s):\n",
    "\tif s[i] != ' ':\n",
    "\t\ts1 += s[i]\n",
    "\telif s[i-1] != ' ':\n",
    "\t    s1 += '*'\n",
    "\ti += 1\n",
    "print(s1+'/')\n"
   ]
  },
  {
   "cell_type": "code",
   "execution_count": 7,
   "metadata": {},
   "outputs": [],
   "source": [
    "\n"
   ]
  },
  {
   "cell_type": "code",
   "execution_count": 5,
   "metadata": {},
   "outputs": [
    {
     "ename": "IndentationError",
     "evalue": "expected an indented block (<ipython-input-5-45be95dbd69d>, line 3)",
     "output_type": "error",
     "traceback": [
      "\u001b[1;36m  File \u001b[1;32m\"<ipython-input-5-45be95dbd69d>\"\u001b[1;36m, line \u001b[1;32m3\u001b[0m\n\u001b[1;33m    a = float(input(\"Введите число №1\"))\u001b[0m\n\u001b[1;37m    ^\u001b[0m\n\u001b[1;31mIndentationError\u001b[0m\u001b[1;31m:\u001b[0m expected an indented block\n"
     ]
    }
   ],
   "source": [
    "\n"
   ]
  },
  {
   "cell_type": "code",
   "execution_count": 6,
   "metadata": {},
   "outputs": [
    {
     "ename": "NameError",
     "evalue": "name 'arithmetic' is not defined",
     "output_type": "error",
     "traceback": [
      "\u001b[1;31m---------------------------------------------------------------------------\u001b[0m",
      "\u001b[1;31mNameError\u001b[0m                                 Traceback (most recent call last)",
      "\u001b[1;32m<ipython-input-6-8973eebb1f9f>\u001b[0m in \u001b[0;36m<module>\u001b[1;34m()\u001b[0m\n\u001b[1;32m----> 1\u001b[1;33m \u001b[0marithmetic\u001b[0m\u001b[1;33m(\u001b[0m\u001b[0ma\u001b[0m\u001b[1;33m,\u001b[0m\u001b[0mb\u001b[0m\u001b[1;33m,\u001b[0m\u001b[0mF\u001b[0m\u001b[1;33m)\u001b[0m\u001b[1;33m\u001b[0m\u001b[0m\n\u001b[0m",
      "\u001b[1;31mNameError\u001b[0m: name 'arithmetic' is not defined"
     ]
    }
   ],
   "source": []
  },
  {
   "cell_type": "code",
   "execution_count": null,
   "metadata": {},
   "outputs": [],
   "source": []
  },
  {
   "cell_type": "code",
   "execution_count": null,
   "metadata": {},
   "outputs": [],
   "source": []
  },
  {
   "cell_type": "code",
   "execution_count": null,
   "metadata": {},
   "outputs": [],
   "source": []
  }
 ],
 "metadata": {
  "kernelspec": {
   "display_name": "Python 3",
   "language": "python",
   "name": "python3"
  },
  "language_info": {
   "codemirror_mode": {
    "name": "ipython",
    "version": 3
   },
   "file_extension": ".py",
   "mimetype": "text/x-python",
   "name": "python",
   "nbconvert_exporter": "python",
   "pygments_lexer": "ipython3",
   "version": "3.6.3"
  }
 },
 "nbformat": 4,
 "nbformat_minor": 2
}
