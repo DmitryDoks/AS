{
 "cells": [
  {
   "cell_type": "code",
   "execution_count": 4,
   "metadata": {},
   "outputs": [
    {
     "name": "stdout",
     "output_type": "stream",
     "text": [
      "enter the string - qwdsad jghsda           qsafasd    das\n",
      "qwdsad*jghsda*qsafasd*das*\n"
     ]
    }
   ],
   "source": [
    "arr=input(\"enter the string - \")\n",
    "arr = arr.split()\n",
    "A=\"\"\n",
    "for i in range(len(arr)) :\n",
    "\tA+=arr[i]+\"*\"\n",
    "print (A)"
   ]
  },
  {
   "cell_type": "code",
   "execution_count": null,
   "metadata": {},
   "outputs": [],
   "source": []
  }
 ],
 "metadata": {
  "kernelspec": {
   "display_name": "Python 3",
   "language": "python",
   "name": "python3"
  },
  "language_info": {
   "codemirror_mode": {
    "name": "ipython",
    "version": 3
   },
   "file_extension": ".py",
   "mimetype": "text/x-python",
   "name": "python",
   "nbconvert_exporter": "python",
   "pygments_lexer": "ipython3",
   "version": "3.6.4"
  }
 },
 "nbformat": 4,
 "nbformat_minor": 2
}
