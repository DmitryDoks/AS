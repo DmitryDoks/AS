{
 "cells": [
  {
   "cell_type": "code",
   "execution_count": 10,
   "metadata": {},
   "outputs": [
    {
     "name": "stdout",
     "output_type": "stream",
     "text": [
      "enter the string - 1 4 1233 32 4 243\n",
      "There are not unique numbers\n"
     ]
    }
   ],
   "source": [
    "arr=input(\"enter the string - \")\n",
    "arr = list(map(int,arr.split()))\n",
    "flag=0\n",
    "for i in range(len(arr)) :\n",
    "\tfor j in range(i+1,len(arr)) :\n",
    "\t\tif arr[i]==arr[j] : \n",
    "\t\t\tflag=1\n",
    "\t\t\tcontinue\n",
    "if flag==1 : print (\"There are not unique numbers\")\n",
    "else : print (\"All numbers are unique\")"
   ]
  },
  {
   "cell_type": "code",
   "execution_count": null,
   "metadata": {},
   "outputs": [],
   "source": []
  },
  {
   "cell_type": "code",
   "execution_count": null,
   "metadata": {},
   "outputs": [],
   "source": []
  }
 ],
 "metadata": {
  "kernelspec": {
   "display_name": "Python 3",
   "language": "python",
   "name": "python3"
  },
  "language_info": {
   "codemirror_mode": {
    "name": "ipython",
    "version": 3
   },
   "file_extension": ".py",
   "mimetype": "text/x-python",
   "name": "python",
   "nbconvert_exporter": "python",
   "pygments_lexer": "ipython3",
   "version": "3.6.4"
  }
 },
 "nbformat": 4,
 "nbformat_minor": 2
}
