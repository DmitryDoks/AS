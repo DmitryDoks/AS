{
 "cells": [
  {
   "cell_type": "code",
   "execution_count": 16,
   "metadata": {},
   "outputs": [
    {
     "name": "stdout",
     "output_type": "stream",
     "text": [
      "enter D -\n",
      "1\n",
      "enter h -\n",
      "1\n",
      "enter S -\n",
      "1\n",
      "2\n"
     ]
    }
   ],
   "source": [
    "print (\"enter D -\")\n",
    "D=float(input())\n",
    "print (\"enter h -\")\n",
    "h=float(input())\n",
    "print (\"enter S -\")\n",
    "S=float(input())\n",
    "square=D*D*h*3.14159/2\n",
    "N=square//S\n",
    "if square%S!=0 : N+=1\n",
    "print (\"%d\" % N)"
   ]
  },
  {
   "cell_type": "code",
   "execution_count": null,
   "metadata": {},
   "outputs": [],
   "source": []
  },
  {
   "cell_type": "code",
   "execution_count": null,
   "metadata": {},
   "outputs": [],
   "source": []
  },
  {
   "cell_type": "code",
   "execution_count": null,
   "metadata": {},
   "outputs": [],
   "source": [
    "\n"
   ]
  }
 ],
 "metadata": {
  "kernelspec": {
   "display_name": "Python 3",
   "language": "python",
   "name": "python3"
  },
  "language_info": {
   "codemirror_mode": {
    "name": "ipython",
    "version": 3
   },
   "file_extension": ".py",
   "mimetype": "text/x-python",
   "name": "python",
   "nbconvert_exporter": "python",
   "pygments_lexer": "ipython3",
   "version": "3.6.4"
  }
 },
 "nbformat": 4,
 "nbformat_minor": 2
}
