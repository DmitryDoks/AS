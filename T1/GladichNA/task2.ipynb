{
 "cells": [
  {
   "cell_type": "code",
   "execution_count": 5,
   "metadata": {},
   "outputs": [
    {
     "name": "stdout",
     "output_type": "stream",
     "text": [
      "enter the string or 'end'- 1 2\n",
      "new itteration\n",
      "enter the string or 'end'- 32 64\n",
      "new itteration\n",
      "enter the string or 'end'- end\n",
      "[[0.5, 1.0], [0.5, 1.0]]\n"
     ]
    }
   ],
   "source": [
    "i=0\n",
    "flag=0\n",
    "mas=[]\n",
    "while (flag==0) :\n",
    "\tarr=input(\"enter the string or '\"'end'\"'- \")\n",
    "\tif (arr==\"end\") :\n",
    "\t\tflag=1\n",
    "\telse :\n",
    "\t\tmas.append(list(map(float,arr.split())))\n",
    "\t\tmaximum=1.0\n",
    "\t\tfor j in range(len(mas[i])) :\n",
    "\t\t\tif (maximum<mas[i][j]) :\n",
    "\t\t\t\tmaximum=mas[i][j]\n",
    "\t\tfor j in range(len(mas[i])) :\n",
    "\t\t\tmas[i][j]/=maximum\n",
    "\t\ti+=1\n",
    "\t\tprint (\"new itteration\")\n",
    "print (mas)"
   ]
  },
  {
   "cell_type": "code",
   "execution_count": null,
   "metadata": {},
   "outputs": [],
   "source": []
  }
 ],
 "metadata": {
  "kernelspec": {
   "display_name": "Python 3",
   "language": "python",
   "name": "python3"
  },
  "language_info": {
   "codemirror_mode": {
    "name": "ipython",
    "version": 3
   },
   "file_extension": ".py",
   "mimetype": "text/x-python",
   "name": "python",
   "nbconvert_exporter": "python",
   "pygments_lexer": "ipython3",
   "version": "3.6.4"
  }
 },
 "nbformat": 4,
 "nbformat_minor": 2
}
