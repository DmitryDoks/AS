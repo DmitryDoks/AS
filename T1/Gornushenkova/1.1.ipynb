{
 "cells": [
  {
   "cell_type": "code",
   "execution_count": null,
   "metadata": {},
   "outputs": [],
   "source": [
    "\n",
    "a = []  \n",
    "x = 0\n",
    "n = int(input())  \n",
    "for i in range(n):  \n",
    "    new_element = int(input())  \n",
    "    a.append(new_element) \n",
    "for i in range(n):\n",
    "    for j in range(i+1,n):\n",
    "        if a[i] == a[j] :\n",
    "            x = 1\n",
    "if x == 0 : \n",
    "    print(\"Simple\")\n",
    "else : print(\"Not Simple\")"
   ]
  },
  {
   "cell_type": "code",
   "execution_count": null,
   "metadata": {},
   "outputs": [],
   "source": []
  },
  {
   "cell_type": "code",
   "execution_count": null,
   "metadata": {},
   "outputs": [],
   "source": []
  }
 ],
 "metadata": {
  "kernelspec": {
   "display_name": "Octave",
   "language": "octave",
   "name": "octave"
  }
 },
 "nbformat": 4,
 "nbformat_minor": 2
}
