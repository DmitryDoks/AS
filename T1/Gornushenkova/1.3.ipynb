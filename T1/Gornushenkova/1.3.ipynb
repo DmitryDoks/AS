{
 "cells": [
  {
   "cell_type": "code",
   "execution_count": null,
   "metadata": {},
   "outputs": [],
   "source": [
    "\n",
    "a=int(input(\"enter the number: \"))\n",
    "b=0\n",
    "\n",
    "while (a!=0) :\n",
    "\tC=a%10\n",
    "\tb=b*10+C\n",
    "\ta//=10\n",
    "print (b)"
   ]
  },
  {
   "cell_type": "code",
   "execution_count": null,
   "metadata": {},
   "outputs": [],
   "source": []
  }
 ],
 "metadata": {
  "kernelspec": {
   "display_name": "Octave",
   "language": "octave",
   "name": "octave"
  }
 },
 "nbformat": 4,
 "nbformat_minor": 2
}
