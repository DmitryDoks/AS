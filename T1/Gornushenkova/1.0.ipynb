{
 "cells": [
  {
   "cell_type": "markdown",
   "metadata": {},
   "source": [
    "\n"
   ]
  },
  {
   "cell_type": "code",
   "execution_count": null,
   "metadata": {},
   "outputs": [],
   "source": [
    "print (\"Enter D:\")\n",
    "d=float(input())\n",
    "print (\"Enter H:\")\n",
    "h=float(input())\n",
    "print (\"Enter m:\")\n",
    "m=float(input())\n",
    "k=2*3.14*d*h\n",
    "l=1.57*d*d\n",
    "n=(k+l)//m\n",
    "if k+l%m !=0 : n = n+1\n",
    "print (\"%d\" % n)"
   ]
  }
 ],
 "metadata": {
  "kernelspec": {
   "display_name": "Octave",
   "language": "octave",
   "name": "octave"
  }
 },
 "nbformat": 4,
 "nbformat_minor": 2
}
