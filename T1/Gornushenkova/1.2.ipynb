{
 "cells": [
  {
   "cell_type": "code",
   "execution_count": null,
   "metadata": {},
   "outputs": [],
   "source": [
    "a = []  \n",
    "n = int(input())  \n",
    "for i in range(n):  \n",
    "    new_element = []\n",
    "    m = int(input())  \n",
    "    for l in range(m):  \n",
    "        new_element1 = int(input())  \n",
    "        new_element.append(new_element1)\n",
    "    for l in range(m):   \n",
    "        new_element[l] = new_element[l] / max(new_element)\n",
    "    a.append(new_element) \n",
    "print(a)"
   ]
  }
 ],
 "metadata": {
  "kernelspec": {
   "display_name": "Python 3",
   "language": "python",
   "name": "python3"
  },
  "language_info": {
   "codemirror_mode": {
    "name": "ipython",
    "version": 3
   },
   "file_extension": ".py",
   "mimetype": "text/x-python",
   "name": "python",
   "nbconvert_exporter": "python",
   "pygments_lexer": "ipython3",
   "version": "3.6.3"
  }
 },
 "nbformat": 4,
 "nbformat_minor": 2
}
