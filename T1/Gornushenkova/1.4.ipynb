{
 "cells": [
  {
   "cell_type": "code",
   "execution_count": null,
   "metadata": {},
   "outputs": [],
   "source": [
    "arr=input(\"enter the string: \")\n",
    "arr = arr.split()\n",
    "A=\"\"\n",
    "for i in range(len(arr)) :\n",
    "\tA+=arr[i]+\"*\"\n",
    "print (A)"
   ]
  }
 ],
 "metadata": {
  "kernelspec": {
   "display_name": "Octave",
   "language": "octave",
   "name": "octave"
  }
 },
 "nbformat": 4,
 "nbformat_minor": 2
}
