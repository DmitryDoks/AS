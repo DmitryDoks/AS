{
 "cells": [
  {
   "cell_type": "code",
   "execution_count": 1,
   "metadata": {},
   "outputs": [
    {
     "name": "stdout",
     "output_type": "stream",
     "text": [
      "   wwwwwww     wwwwwwww  adsasd    dwaawd        awdsad      asdsad        asddsa\n",
      "wwwwwww*wwwwwwww*adsasd*dwaawd*awdsad*asdsad*asddsa\n"
     ]
    }
   ],
   "source": [
    "a=input()\n",
    "a=a.strip()\n",
    "i=0\n",
    "while i<len(a):\n",
    "    if a[i]==' ':\n",
    "        if a[i-1]=='*':\n",
    "            a=a[:i]+a[i+1:]\n",
    "            i-=1\n",
    "        else:\n",
    "            a=a[:i]+'*'+a[i+1:]\n",
    "    i+=1\n",
    "print(a)\n",
    "        \n"
   ]
  },
  {
   "cell_type": "code",
   "execution_count": null,
   "metadata": {},
   "outputs": [],
   "source": []
  }
 ],
 "metadata": {
  "kernelspec": {
   "display_name": "Python 3",
   "language": "python",
   "name": "python3"
  },
  "language_info": {
   "codemirror_mode": {
    "name": "ipython",
    "version": 3
   },
   "file_extension": ".py",
   "mimetype": "text/x-python",
   "name": "python",
   "nbconvert_exporter": "python",
   "pygments_lexer": "ipython3",
   "version": "3.6.3"
  }
 },
 "nbformat": 4,
 "nbformat_minor": 2
}
