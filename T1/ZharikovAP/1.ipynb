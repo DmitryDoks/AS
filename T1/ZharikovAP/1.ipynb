{
 "cells": [
  {
   "cell_type": "code",
   "execution_count": 1,
   "metadata": {},
   "outputs": [
    {
     "name": "stdout",
     "output_type": "stream",
     "text": [
      "Введите кол-во элементов, которые хотите ввести и затем вводите элементы\n",
      "3\n",
      "11\n",
      "12\n",
      "11\n",
      "[11, 12, 11]\n",
      "Не все элементы списка являются уникальными\n"
     ]
    }
   ],
   "source": [
    "print(\"Введите кол-во элементов, которые хотите ввести и затем вводите элементы\")\n",
    "a = []\n",
    "for i in range(int(input())):\n",
    "    a.append(int(input()))\n",
    "print(a)\n",
    "flag=0\n",
    "for c in a:\n",
    "    if a.count(c)>1:\n",
    "        flag=1\n",
    "        break\n",
    "if flag==0:\n",
    "    print(\"Все элементы списка являются уникальными\")\n",
    "else:\n",
    "    print(\"Не все элементы списка являются уникальными\")"
   ]
  },
  {
   "cell_type": "code",
   "execution_count": null,
   "metadata": {},
   "outputs": [],
   "source": []
  }
 ],
 "metadata": {
  "kernelspec": {
   "display_name": "Python 3",
   "language": "python",
   "name": "python3"
  },
  "language_info": {
   "codemirror_mode": {
    "name": "ipython",
    "version": 3
   },
   "file_extension": ".py",
   "mimetype": "text/x-python",
   "name": "python",
   "nbconvert_exporter": "python",
   "pygments_lexer": "ipython3",
   "version": "3.6.3"
  }
 },
 "nbformat": 4,
 "nbformat_minor": 2
}
