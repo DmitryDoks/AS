{
 "cells": [
  {
   "cell_type": "code",
   "execution_count": 5,
   "metadata": {},
   "outputs": [
    {
     "name": "stdout",
     "output_type": "stream",
     "text": [
      "Введите кол-во элементов первого списка, которые хотите ввести и затем вводите элементы\n",
      "3\n",
      "11\n",
      "12\n",
      "13\n",
      "Введите кол-во элементов второго списка, которые хотите ввести и затем вводите элементы\n",
      "4\n",
      "22\n",
      "23\n",
      "24\n",
      "25\n",
      "[0.8461538461538461, 0.9230769230769231, 1.0]\n",
      "[0.88, 0.92, 0.96, 1.0]\n"
     ]
    }
   ],
   "source": [
    "print(\"Введите кол-во элементов первого списка, которые хотите ввести и затем вводите элементы\")\n",
    "a = []\n",
    "for i in range(int(input())):\n",
    "    a.append(int(input()))\n",
    "print(\"Введите кол-во элементов второго списка, которые хотите ввести и затем вводите элементы\")\n",
    "b = []\n",
    "for i in range(int(input())):\n",
    "    b.append(int(input()))\n",
    "max_a=max(a)\n",
    "max_b=max(b)\n",
    "i=0\n",
    "for c in a:\n",
    "    a[i]=c/max_a\n",
    "    i=i+1\n",
    "i=0\n",
    "for c in b:\n",
    "    b[i]=c/max_b\n",
    "    i=i+1\n",
    "print(a)\n",
    "print(b)\n",
    "\n",
    "    \n"
   ]
  },
  {
   "cell_type": "code",
   "execution_count": null,
   "metadata": {},
   "outputs": [],
   "source": []
  }
 ],
 "metadata": {
  "kernelspec": {
   "display_name": "Python 3",
   "language": "python",
   "name": "python3"
  },
  "language_info": {
   "codemirror_mode": {
    "name": "ipython",
    "version": 3
   },
   "file_extension": ".py",
   "mimetype": "text/x-python",
   "name": "python",
   "nbconvert_exporter": "python",
   "pygments_lexer": "ipython3",
   "version": "3.6.3"
  }
 },
 "nbformat": 4,
 "nbformat_minor": 2
}
