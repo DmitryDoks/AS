{
 "cells": [
  {
   "cell_type": "code",
   "execution_count": 1,
   "metadata": {},
   "outputs": [
    {
     "name": "stdout",
     "output_type": "stream",
     "text": [
      "[39, 22, 2, 39, 23, 32, 39, 21, 38, 46]\n",
      "Есть одинаковые\n",
      "Есть одинаковые\n",
      "Есть одинаковые\n",
      "Все элементы уникальны\n"
     ]
    }
   ],
   "source": [
    "from random import random\n",
    "N = 10 \n",
    "arr = [0] * N\n",
    "for i in range(N):\n",
    "    arr[i] = int(random() * 50)\n",
    "print(arr)\n",
    "for i in range(N-1):\n",
    "    for j in range(i+1,N):\n",
    "        if arr[i] == arr[j]:\n",
    "            print(\"Есть одинаковые\")\n",
    "            quit()\n",
    "print(\"Все элементы уникальны\")"
   ]
  },
  {
   "cell_type": "code",
   "execution_count": null,
   "metadata": {},
   "outputs": [],
   "source": []
  }
 ],
 "metadata": {
  "kernelspec": {
   "display_name": "Python 3",
   "language": "python",
   "name": "python3"
  },
  "language_info": {
   "codemirror_mode": {
    "name": "ipython",
    "version": 3
   },
   "file_extension": ".py",
   "mimetype": "text/x-python",
   "name": "python",
   "nbconvert_exporter": "python",
   "pygments_lexer": "ipython3",
   "version": "3.6.3"
  }
 },
 "nbformat": 4,
 "nbformat_minor": 2
}
