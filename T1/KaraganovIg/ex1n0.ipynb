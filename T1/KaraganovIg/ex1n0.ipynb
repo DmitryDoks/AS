{
 "cells": [
  {
   "cell_type": "code",
   "execution_count": 1,
   "metadata": {},
   "outputs": [
    {
     "name": "stdout",
     "output_type": "stream",
     "text": [
      "Диаметр бака: 12\n",
      "Высота бака: 30\n",
      "Окрашиваемая площадь одной банкой: 25\n",
      "Количество требуемых банок: 109\n"
     ]
    }
   ],
   "source": [
    "d = input(\"Диаметр бака: \") \n",
    "d = float(d) \n",
    "h = input(\"Высота бака: \") \n",
    "h = float(h) \n",
    "S = input(\"Окрашиваемая площадь одной банкой: \") \n",
    "S = int(S) \n",
    "\n",
    "import math \n",
    "\n",
    "circle = math.pi * d**2 / 4 \n",
    "cylinder = math.pi * d * h \n",
    "total = circle * 4 + cylinder * 2 # учитываем и внутреннюю поверхность \n",
    "qty = total / S # количество банок краски \n",
    "qty = int(qty) + 1 \n",
    "print(\"Количество требуемых банок:\", qty)"
   ]
  },
  {
   "cell_type": "code",
   "execution_count": null,
   "metadata": {},
   "outputs": [],
   "source": []
  }
 ],
 "metadata": {
  "kernelspec": {
   "display_name": "Python 3",
   "language": "python",
   "name": "python3"
  },
  "language_info": {
   "codemirror_mode": {
    "name": "ipython",
    "version": 3
   },
   "file_extension": ".py",
   "mimetype": "text/x-python",
   "name": "python",
   "nbconvert_exporter": "python",
   "pygments_lexer": "ipython3",
   "version": "3.6.3"
  }
 },
 "nbformat": 4,
 "nbformat_minor": 2
}
