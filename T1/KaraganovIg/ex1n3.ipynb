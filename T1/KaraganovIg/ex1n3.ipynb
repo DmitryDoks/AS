{
 "cells": [
  {
   "cell_type": "code",
   "execution_count": 1,
   "metadata": {},
   "outputs": [
    {
     "name": "stdout",
     "output_type": "stream",
     "text": [
      "Введите целое число: 5\n",
      "\"Обратное\" ему число: 5\n"
     ]
    }
   ],
   "source": [
    "n1 = int(input(\"Введите целое число: \"))\n",
    "n2 = 0\n",
    " \n",
    "while n1 > 0:\n",
    "\tdigit = n1 % 10; # находим остаток - последнюю цифру числа\n",
    "\tn1 = n1 // 10; # делим нацело - убираем из числа последнюю цифру\n",
    "\tn2 = n2 * 10 # увеличиваем разрядность второго числа\n",
    "\tn2 = n2 + digit # добавляем очередную цифру\n",
    " \n",
    "print('\"Обратное\" ему число:',n2)"
   ]
  },
  {
   "cell_type": "code",
   "execution_count": 2,
   "metadata": {},
   "outputs": [
    {
     "name": "stdout",
     "output_type": "stream",
     "text": [
      "Введите целое число: 3425\n",
      "\"Обратное\" ему число: 5243\n"
     ]
    }
   ],
   "source": [
    "n1 = int(input(\"Введите целое число: \"))\n",
    "n2 = 0\n",
    " \n",
    "while n1 > 0:\n",
    "\tdigit = n1 % 10; # находим остаток - последнюю цифру числа\n",
    "\tn1 = n1 // 10; # делим нацело - убираем из числа последнюю цифру\n",
    "\tn2 = n2 * 10 # увеличиваем разрядность второго числа\n",
    "\tn2 = n2 + digit # добавляем очередную цифру\n",
    " \n",
    "print('\"Обратное\" ему число:',n2)"
   ]
  },
  {
   "cell_type": "code",
   "execution_count": null,
   "metadata": {},
   "outputs": [],
   "source": []
  },
  {
   "cell_type": "code",
   "execution_count": null,
   "metadata": {},
   "outputs": [],
   "source": []
  }
 ],
 "metadata": {
  "kernelspec": {
   "display_name": "Python 3",
   "language": "python",
   "name": "python3"
  },
  "language_info": {
   "codemirror_mode": {
    "name": "ipython",
    "version": 3
   },
   "file_extension": ".py",
   "mimetype": "text/x-python",
   "name": "python",
   "nbconvert_exporter": "python",
   "pygments_lexer": "ipython3",
   "version": "3.6.3"
  }
 },
 "nbformat": 4,
 "nbformat_minor": 2
}
