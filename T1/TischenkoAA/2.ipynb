{
 "cells": [
  {
   "cell_type": "code",
   "execution_count": 2,
   "metadata": {},
   "outputs": [
    {
     "name": "stdout",
     "output_type": "stream",
     "text": [
      "Полученные списки\n",
      "[[0.3333333333333333, 0.6666666666666666, 1.0], [0.9090909090909091, 1.0, 0.0]]\n"
     ]
    }
   ],
   "source": [
    "a = []  \n",
    "n = int(input(\"Введите кол-во списков:\"))  \n",
    "for i in range(n):  \n",
    "    q = []\n",
    "    n1 = int(input(\"Введите кол-во элментов в списке:\"))  \n",
    "    for j in range(n1):  \n",
    "        q1 = int(input(\"Введите число:\"))  \n",
    "        q.append(q1)\n",
    "    for j in range(n1):   \n",
    "        q[j] = q[j] / max(q)\n",
    "    a.append(q) \n",
    "print(\"Полученные списки:\")\n",
    "print(a)"
   ]
  },
  {
   "cell_type": "code",
   "execution_count": null,
   "metadata": {},
   "outputs": [],
   "source": []
  }
 ],
 "metadata": {
  "kernelspec": {
   "display_name": "Python 3",
   "language": "python",
   "name": "python3"
  },
  "language_info": {
   "codemirror_mode": {
    "name": "ipython",
    "version": 3
   },
   "file_extension": ".py",
   "mimetype": "text/x-python",
   "name": "python",
   "nbconvert_exporter": "python",
   "pygments_lexer": "ipython3",
   "version": "3.6.3"
  }
 },
 "nbformat": 4,
 "nbformat_minor": 2
}
