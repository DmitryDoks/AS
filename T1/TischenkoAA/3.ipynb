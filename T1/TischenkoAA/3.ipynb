{
 "cells": [
  {
   "cell_type": "code",
   "execution_count": 7,
   "metadata": {},
   "outputs": [
    {
     "name": "stdout",
     "output_type": "stream",
     "text": [
      "66\n"
     ]
    }
   ],
   "source": [
    "a = int(input(\"Введите число:\"))\n",
    "b = a\n",
    "q = 1\n",
    "a1 = 0\n",
    "while b > 10:\n",
    "    b = b / 10\n",
    "    q = q + 1\n",
    "for i in range(q):\n",
    "   a1 = a1 + (a%10)*(10**(q-(i+1)))\n",
    "   a=a-\n",
    "    \n",
    "print (a1)"
   ]
  },
  {
   "cell_type": "code",
   "execution_count": null,
   "metadata": {},
   "outputs": [],
   "source": []
  }
 ],
 "metadata": {
  "kernelspec": {
   "display_name": "Python 3",
   "language": "python",
   "name": "python3"
  },
  "language_info": {
   "codemirror_mode": {
    "name": "ipython",
    "version": 3
   },
   "file_extension": ".py",
   "mimetype": "text/x-python",
   "name": "python",
   "nbconvert_exporter": "python",
   "pygments_lexer": "ipython3",
   "version": "3.6.3"
  }
 },
 "nbformat": 4,
 "nbformat_minor": 2
}
