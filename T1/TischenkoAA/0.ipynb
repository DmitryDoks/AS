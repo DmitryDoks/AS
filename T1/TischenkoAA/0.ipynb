{
 "cells": [
  {
   "cell_type": "code",
   "execution_count": 3,
   "metadata": {},
   "outputs": [
    {
     "name": "stdout",
     "output_type": "stream",
     "text": [
      "10\n"
     ]
    }
   ],
   "source": [
    "d=float(input(\"Enter Diametr:\"))\n",
    "h=float(input(\"Enter Height:\"))\n",
    "s1=float(input(\"Enter Square:\"))\n",
    "s=2*3.14*h*d\n",
    "s=s+2*3.14*(d//2)*(d//2)\n",
    "n=s//s1\n",
    "if s%s1 !=0 : \n",
    "    n = n+1\n",
    "print (\"%d\" % n)"
   ]
  },
  {
   "cell_type": "code",
   "execution_count": null,
   "metadata": {},
   "outputs": [],
   "source": []
  }
 ],
 "metadata": {
  "kernelspec": {
   "display_name": "Python 3",
   "language": "python",
   "name": "python3"
  },
  "language_info": {
   "codemirror_mode": {
    "name": "ipython",
    "version": 3
   },
   "file_extension": ".py",
   "mimetype": "text/x-python",
   "name": "python",
   "nbconvert_exporter": "python",
   "pygments_lexer": "ipython3",
   "version": "3.6.3"
  }
 },
 "nbformat": 4,
 "nbformat_minor": 2
}
