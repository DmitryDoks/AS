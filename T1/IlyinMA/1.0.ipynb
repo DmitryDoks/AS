d = float(input("Диаметр бака: "))
h = float(input("Высота бака: "))
S = int(input("Окрашиваемая площадь одной банкой: "))

import math
 
circle = math.pi * d**2 / 4 
cylinder = math.pi * d * h
total = circle * 4 + cylinder * 2 # учитываем и внутреннюю поверхность
qty = total / S # количество банок краски
qty = int(qty) + 1 
print("Количество требуемых банок:", qty)