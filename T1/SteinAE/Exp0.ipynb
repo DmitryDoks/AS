{
 "cells": [
  {
   "cell_type": "code",
   "execution_count": 1,
   "metadata": {},
   "outputs": [
    {
     "name": "stdout",
     "output_type": "stream",
     "text": [
      "Введите диаметр бака: \n",
      "3\n",
      "Введите высоту бака: \n",
      "4\n",
      "Введите какую площадь можно покрасить одной банкой краски: \n",
      "5\n",
      "Кол-во банок, необходимых для того, чтобы покрасить внутренюю и внешнюю сторону заданного цилиндра:  20.734511513692635\n"
     ]
    }
   ],
   "source": [
    "import math\n",
    "print(\"Введите диаметр бака: \")\n",
    "d = float(input())\n",
    "print(\"Введите высоту бака: \")\n",
    "height = float(input())\n",
    "print(\"Введите какую площадь можно покрасить одной банкой краски: \")\n",
    "s = float(input())\n",
    "print(\"Кол-во банок, необходимых для того, чтобы покрасить внутренюю и внешнюю сторону заданного цилиндра: \",\n",
    "      (d*math.pi*height*2+4*(math.pi*(d/2)**2))/s)"
   ]
  },
  {
   "cell_type": "code",
   "execution_count": null,
   "metadata": {},
   "outputs": [],
   "source": []
  }
 ],
 "metadata": {
  "kernelspec": {
   "display_name": "Python 3",
   "language": "python",
   "name": "python3"
  },
  "language_info": {
   "codemirror_mode": {
    "name": "ipython",
    "version": 3
   },
   "file_extension": ".py",
   "mimetype": "text/x-python",
   "name": "python",
   "nbconvert_exporter": "python",
   "pygments_lexer": "ipython3",
   "version": "3.6.3"
  }
 },
 "nbformat": 4,
 "nbformat_minor": 2
}
