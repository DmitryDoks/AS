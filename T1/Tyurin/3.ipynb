{
 "cells": [
  {
   "cell_type": "code",
   "execution_count": 1,
   "metadata": {},
   "outputs": [
    {
     "name": "stdout",
     "output_type": "stream",
     "text": [
      "\"Обратное\" ему число: 652\n"
     ]
    }
   ],
   "source": [
    "k1 = int(input(\"Введите целое число: \"))\n",
    "k2 = 0\n",
    " \n",
    "while k1 > 0:\n",
    "    a = k1 % 10\n",
    "    k1 = k1 // 10\n",
    "    k2 = k2 * 10 \n",
    "    k2 = k2 + a\n",
    " \n",
    "print('\"Обратное\" ему число:',k2)"
   ]
  },
  {
   "cell_type": "code",
   "execution_count": null,
   "metadata": {},
   "outputs": [],
   "source": []
  }
 ],
 "metadata": {
  "kernelspec": {
   "display_name": "Python 3",
   "language": "python",
   "name": "python3"
  },
  "language_info": {
   "codemirror_mode": {
    "name": "ipython",
    "version": 3
   },
   "file_extension": ".py",
   "mimetype": "text/x-python",
   "name": "python",
   "nbconvert_exporter": "python",
   "pygments_lexer": "ipython3",
   "version": "3.5.4"
  }
 },
 "nbformat": 4,
 "nbformat_minor": 2
}
