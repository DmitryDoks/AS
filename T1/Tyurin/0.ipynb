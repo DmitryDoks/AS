{
 "cells": [
  {
   "cell_type": "code",
   "execution_count": 1,
   "metadata": {},
   "outputs": [
    {
     "name": "stdout",
     "output_type": "stream",
     "text": [
      "Количество банок:  176\n"
     ]
    }
   ],
   "source": [
    "d = input(\"Диаметр бака: \") \n",
    "d = int(d) \n",
    "h = input(\"Высота бака: \") \n",
    "h = int(h) \n",
    "S = input(\"Площадь окраски одной банкой: \") \n",
    "S = int(S) \n",
    "\n",
    "import math \n",
    "\n",
    "\n",
    "quantity = (4*math.pi*d*h+(2*math.pi*d**2))/S \n",
    "quantity = int(quantity)+1 \n",
    "print(\"Количество банок: \", quantity)"
   ]
  },
  {
   "cell_type": "code",
   "execution_count": null,
   "metadata": {},
   "outputs": [],
   "source": []
  }
 ],
 "metadata": {
  "kernelspec": {
   "display_name": "Python 3",
   "language": "python",
   "name": "python3"
  },
  "language_info": {
   "codemirror_mode": {
    "name": "ipython",
    "version": 3
   },
   "file_extension": ".py",
   "mimetype": "text/x-python",
   "name": "python",
   "nbconvert_exporter": "python",
   "pygments_lexer": "ipython3",
   "version": "3.5.4"
  }
 },
 "nbformat": 4,
 "nbformat_minor": 2
}
