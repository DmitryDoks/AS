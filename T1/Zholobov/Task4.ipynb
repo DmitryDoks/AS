arr=input("enter the string - ")
arr = arr.split()
A=""
for i in range(len(arr)) :
	A+=arr[i]+"*"
print (A)
