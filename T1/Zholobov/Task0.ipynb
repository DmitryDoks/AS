a=float(input("Enter D:"))
x=float(input("Enter H:"))
b=float(input("Enter m:"))
y=2*3.14*x*a
c=1.57*a*a
n=(c+y)//b
if (y+c)%b !=0 : 
    n = n+1
print ("%d" % n)