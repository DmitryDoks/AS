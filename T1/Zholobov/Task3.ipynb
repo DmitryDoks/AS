a = int(input())
b = a
n = 0
while b != 0:
    b = b // 10
    n += 1
p = 0
for i in range(n):
    k = ((a//(10**(n-i-1)))%10)
    p = p + k*(10**i)
print (p)