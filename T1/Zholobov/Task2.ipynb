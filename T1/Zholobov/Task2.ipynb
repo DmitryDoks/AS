a = []  
n = int(input())  
for i in range(n):  
    new_element = []
    m = int(input())  
    for l in range(m):  
        new_element1 = int(input())  
        new_element.append(new_element1)
    for l in range(m):   
        new_element[l] = new_element[l] / max(new_element)
    a.append(new_element) 
print(a)