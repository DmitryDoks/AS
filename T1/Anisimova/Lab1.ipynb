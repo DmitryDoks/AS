{
 "cells": [
  {
   "cell_type": "code",
   "execution_count": 1,
   "metadata": {},
   "outputs": [
    {
     "name": "stdout",
     "output_type": "stream",
     "text": [
      "Площадь, которою можно закрасить одной банкой = 5\n",
      "Диаметр =8\n",
      "Высота = 9\n",
      "111 банок необходимо\n"
     ]
    }
   ],
   "source": [
    "s = float(input(\"Площадь, которою можно закрасить одной банкой = \"))\n",
    "d = float(input(\"Диаметр =\"))\n",
    "h = float(input(\"Высота = \"))\n",
    "opl = 2*(3.14*d**2/4+3.14*d*h)\n",
    "banki = round((2*(3.14*d**2/4+3.14*d*h))/s)\n",
    "print(banki, \"банок необходимо\")\n",
    "\n",
    "\n"
   ]
  },
  {
   "cell_type": "code",
   "execution_count": 3,
   "metadata": {},
   "outputs": [
    {
     "name": "stdout",
     "output_type": "stream",
     "text": [
      "5\n",
      "1\n",
      "8\n",
      "8\n",
      "9\n",
      "7\n",
      "Набор не уникален\n"
     ]
    }
   ],
   "source": [
    "N = int (input())\n",
    "nabor = []\n",
    "k = 0\n",
    "for i in range(N):\n",
    "    new_element = int(input())\n",
    "    nabor.append(new_element)\n",
    "for i in range(N-1):\n",
    "    for j in range(i+1,N):\n",
    "        if nabor[i]==nabor[j]:\n",
    "            k = k+1\n",
    "if k>=1:\n",
    "    print(\"Набор не уникален\")\n",
    "else:    \n",
    "    print(\"Набор уникален\")         \n",
    "    \n",
    "\n"
   ]
  },
  {
   "cell_type": "code",
   "execution_count": 7,
   "metadata": {},
   "outputs": [
    {
     "name": "stdout",
     "output_type": "stream",
     "text": [
      "5\n",
      "5\n",
      "4\n",
      "7\n",
      "9\n",
      "8\n",
      "5\n",
      "Первй набо [4, 7, 9, 8, 5]\n",
      "7\n",
      "9\n",
      "5\n",
      "6\n",
      "7\n",
      "Второй набор [7, 9, 5, 6, 7]\n",
      "Первый набор [0.4444444444444444, 0.7777777777777778, 1.0, 0.8888888888888888, 0.5555555555555556]\n",
      "Второй набор [0.7777777777777778, 1.0, 0.5555555555555556, 0.6666666666666666, 0.7777777777777778]\n"
     ]
    }
   ],
   "source": [
    "nabor1 = []\n",
    "nabor2 = []\n",
    "m = int(input())\n",
    "n = int(input())\n",
    "for i in range(m):\n",
    "    new_element = int(input())\n",
    "    nabor1.append(new_element)\n",
    "print('Первй набо', nabor1)\n",
    "for i in range(n):\n",
    "    new_element = int(input())\n",
    "    nabor2.append(new_element)\n",
    "print('Второй набор', nabor2)\n",
    "max1 = max(nabor1)\n",
    "max2 = max(nabor2)\n",
    "for i in range(m):\n",
    "    nabor1[i] = nabor1[i]/max1\n",
    "print('Первый набор', nabor1)\n",
    "for i in range(n):\n",
    "    nabor2[i] = nabor2[i]/max2\n",
    "print('Второй набор', nabor2)\n",
    "\n"
   ]
  },
  {
   "cell_type": "code",
   "execution_count": 16,
   "metadata": {},
   "outputs": [
    {
     "name": "stdout",
     "output_type": "stream",
     "text": [
      "Введите целое число: 1245\n",
      "\"Обратное\" ему число: 5421\n"
     ]
    }
   ],
   "source": [
    "ish = int(input(\"Введите целое число: \"))\n",
    "obr = 0\n",
    " \n",
    "while ish > 0:\n",
    "    duf = ish % 10;\n",
    "    ish = ish // 10;\n",
    "    obr = obr * 10 \n",
    "    obr = obr + duf \n",
    " \n",
    "print('\"Обратное\" ему число:',obr)"
   ]
  },
  {
   "cell_type": "code",
   "execution_count": 17,
   "metadata": {},
   "outputs": [
    {
     "name": "stdout",
     "output_type": "stream",
     "text": [
      "   my   friend  \n",
      "my*friend\n"
     ]
    }
   ],
   "source": [
    "nabor = input()\n",
    " \n",
    "i = 0\n",
    "while nabor[i] == ' ': i+=1\n",
    "nabor = nabor[i:]\n",
    " \n",
    "i = len(nabor)\n",
    "while nabor[i-1] == ' ': i-=1\n",
    "nabor = nabor[:i]\n",
    " \n",
    "nabor1 = nabor[0]\n",
    "i = 1\n",
    "while i < len(nabor):\n",
    "    if nabor[i] != ' ':\n",
    "        nabor1 += nabor[i]\n",
    "    elif nabor[i-1] != ' ':\n",
    "        nabor1 += '*'\n",
    "    i += 1\n",
    "print(nabor1)"
   ]
  },
  {
   "cell_type": "code",
   "execution_count": null,
   "metadata": {},
   "outputs": [],
   "source": []
  }
 ],
 "metadata": {
  "kernelspec": {
   "display_name": "Python 3",
   "language": "python",
   "name": "python3"
  },
  "language_info": {
   "codemirror_mode": {
    "name": "ipython",
    "version": 3
   },
   "file_extension": ".py",
   "mimetype": "text/x-python",
   "name": "python",
   "nbconvert_exporter": "python",
   "pygments_lexer": "ipython3",
   "version": "3.6.3"
  }
 },
 "nbformat": 4,
 "nbformat_minor": 2
}
