{
 "cells": [
  {
   "cell_type": "code",
   "execution_count": 5,
   "metadata": {},
   "outputs": [
    {
     "name": "stdout",
     "output_type": "stream",
     "text": [
      "my name  kate\n",
      "my*name*kate\n"
     ]
    }
   ],
   "source": [
    "nabor = input()\n",
    " \n",
    "i = 0\n",
    "while nabor[i] == ' ': i+=1\n",
    "nabor = nabor[i:]\n",
    " \n",
    "i = len(nabor)\n",
    "while nabor[i-1] == ' ': i-=1\n",
    "nabor = nabor[:i]\n",
    " \n",
    "nabor1 = nabor[0]\n",
    "i = 1\n",
    "while i < len(nabor):\n",
    "    if nabor[i] != ' ':\n",
    "        nabor1 += nabor[i]\n",
    "    elif nabor[i-1] != ' ':\n",
    "        nabor1 += '*'\n",
    "    i += 1\n",
    "print(nabor1)  "
   ]
  },
  {
   "cell_type": "code",
   "execution_count": 6,
   "metadata": {},
   "outputs": [
    {
     "ename": "SyntaxError",
     "evalue": "invalid syntax (<ipython-input-6-a7dcee112fc8>, line 1)",
     "output_type": "error",
     "traceback": [
      "\u001b[1;36m  File \u001b[1;32m\"<ipython-input-6-a7dcee112fc8>\"\u001b[1;36m, line \u001b[1;32m1\u001b[0m\n\u001b[1;33m    hi my  fr\u001b[0m\n\u001b[1;37m        ^\u001b[0m\n\u001b[1;31mSyntaxError\u001b[0m\u001b[1;31m:\u001b[0m invalid syntax\n"
     ]
    }
   ],
   "source": [
    "hi my  fr\n",
    "\n",
    "\n"
   ]
  },
  {
   "cell_type": "code",
   "execution_count": null,
   "metadata": {},
   "outputs": [],
   "source": []
  }
 ],
 "metadata": {
  "kernelspec": {
   "display_name": "Python 3",
   "language": "python",
   "name": "python3"
  },
  "language_info": {
   "codemirror_mode": {
    "name": "ipython",
    "version": 3
   },
   "file_extension": ".py",
   "mimetype": "text/x-python",
   "name": "python",
   "nbconvert_exporter": "python",
   "pygments_lexer": "ipython3",
   "version": "3.6.3"
  }
 },
 "nbformat": 4,
 "nbformat_minor": 2
}
