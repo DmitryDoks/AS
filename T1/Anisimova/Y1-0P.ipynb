{
 "cells": [
  {
   "cell_type": "code",
   "execution_count": 2,
   "metadata": {},
   "outputs": [
    {
     "name": "stdout",
     "output_type": "stream",
     "text": [
      "Площадь, которою можно закрасить одной банкой = 45\n",
      "Диаметр =12\n",
      "Высота = 15\n",
      "30 банок необходимо\n"
     ]
    }
   ],
   "source": [
    "s = float(input(\"Площадь, которою можно закрасить одной банкой = \"))\n",
    "d = float(input(\"Диаметр =\"))\n",
    "h = float(input(\"Высота = \"))\n",
    "opl = 2*(3.14*d**2/4+3.14*d*h)\n",
    "banki = round((2*(3.14*d**2/4+3.14*d*h))/s)\n",
    "print(banki, \"банок необходимо\")\n"
   ]
  },
  {
   "cell_type": "code",
   "execution_count": null,
   "metadata": {},
   "outputs": [],
   "source": []
  }
 ],
 "metadata": {
  "kernelspec": {
   "display_name": "Python 3",
   "language": "python",
   "name": "python3"
  },
  "language_info": {
   "codemirror_mode": {
    "name": "ipython",
    "version": 3
   },
   "file_extension": ".py",
   "mimetype": "text/x-python",
   "name": "python",
   "nbconvert_exporter": "python",
   "pygments_lexer": "ipython3",
   "version": "3.6.3"
  }
 },
 "nbformat": 4,
 "nbformat_minor": 2
}
