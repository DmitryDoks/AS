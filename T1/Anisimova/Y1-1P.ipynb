{
 "cells": [
  {
   "cell_type": "code",
   "execution_count": 5,
   "metadata": {},
   "outputs": [
    {
     "name": "stdout",
     "output_type": "stream",
     "text": [
      "5\n",
      "44\n",
      "44\n",
      "44\n",
      "55\n",
      "55\n",
      "Набор не уникален\n"
     ]
    }
   ],
   "source": [
    "N = int (input())\n",
    "nabor = []\n",
    "k = 0\n",
    "for i in range(N):\n",
    "    new_element = int(input())\n",
    "    nabor.append(new_element)\n",
    "for i in range(N-1):\n",
    "    for j in range(i+1,N):\n",
    "        if nabor[i]==nabor[j]:\n",
    "            k = k+1\n",
    "if k>=1:\n",
    "    print(\"Набор не уникален\")\n",
    "else:    \n",
    "    print(\"Набор уникален\")         \n",
    "    "
   ]
  },
  {
   "cell_type": "code",
   "execution_count": null,
   "metadata": {},
   "outputs": [],
   "source": []
  }
 ],
 "metadata": {
  "kernelspec": {
   "display_name": "Python 3",
   "language": "python",
   "name": "python3"
  },
  "language_info": {
   "codemirror_mode": {
    "name": "ipython",
    "version": 3
   },
   "file_extension": ".py",
   "mimetype": "text/x-python",
   "name": "python",
   "nbconvert_exporter": "python",
   "pygments_lexer": "ipython3",
   "version": "3.6.3"
  }
 },
 "nbformat": 4,
 "nbformat_minor": 2
}
