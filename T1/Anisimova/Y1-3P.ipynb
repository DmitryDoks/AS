{
 "cells": [
  {
   "cell_type": "code",
   "execution_count": 4,
   "metadata": {},
   "outputs": [
    {
     "name": "stdout",
     "output_type": "stream",
     "text": [
      "Введите целое число: 458\n",
      "\"Обратное\" ему число: 854\n"
     ]
    }
   ],
   "source": [
    "ch = int(input(\"Введите целое число: \"))\n",
    "buf = 0\n",
    " \n",
    "while n1 > 0:\n",
    "    digit = ch % 10; \n",
    "    ch = ch // 10; \n",
    "    buf = buf * 10 \n",
    "    buf = buf + digit \n",
    " \n",
    "print('\"Обратное\" ему число:',n2)"
   ]
  },
  {
   "cell_type": "code",
   "execution_count": null,
   "metadata": {},
   "outputs": [],
   "source": []
  },
  {
   "cell_type": "code",
   "execution_count": null,
   "metadata": {},
   "outputs": [],
   "source": []
  }
 ],
 "metadata": {
  "kernelspec": {
   "display_name": "Python 3",
   "language": "python",
   "name": "python3"
  },
  "language_info": {
   "codemirror_mode": {
    "name": "ipython",
    "version": 3
   },
   "file_extension": ".py",
   "mimetype": "text/x-python",
   "name": "python",
   "nbconvert_exporter": "python",
   "pygments_lexer": "ipython3",
   "version": "3.6.3"
  }
 },
 "nbformat": 4,
 "nbformat_minor": 2
}
