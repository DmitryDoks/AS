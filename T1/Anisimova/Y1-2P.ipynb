{
 "cells": [
  {
   "cell_type": "code",
   "execution_count": 5,
   "metadata": {},
   "outputs": [
    {
     "name": "stdout",
     "output_type": "stream",
     "text": [
      "3\n",
      "3\n",
      "1\n",
      "2\n",
      "5\n",
      "Первй набо [1, 2, 5]\n",
      "5\n",
      "9\n",
      "5\n",
      "Второй набор [5, 9, 5]\n",
      "Первый набор [0.2, 0.4, 1.0]\n",
      "Второй набор [0.5555555555555556, 1.0, 0.5555555555555556]\n"
     ]
    }
   ],
   "source": [
    "nabor1 = []\n",
    "nabor2 = []\n",
    "m = int(input())\n",
    "n = int(input())\n",
    "for i in range(m):\n",
    "    new_element = int(input())\n",
    "    nabor1.append(new_element)\n",
    "print('Первй набо', nabor1)\n",
    "for i in range(n):\n",
    "    new_element = int(input())\n",
    "    nabor2.append(new_element)\n",
    "print('Второй набор', nabor2)\n",
    "max1 = max(nabor1)\n",
    "max2 = max(nabor2)\n",
    "for i in range(m):\n",
    "    nabor1[i] = nabor1[i]/max1\n",
    "print('Первый набор', nabor1)\n",
    "for i in range(n):\n",
    "    nabor2[i] = nabor2[i]/max2\n",
    "print('Второй набор', nabor2)"
   ]
  },
  {
   "cell_type": "code",
   "execution_count": null,
   "metadata": {},
   "outputs": [],
   "source": []
  }
 ],
 "metadata": {
  "kernelspec": {
   "display_name": "Python 3",
   "language": "python",
   "name": "python3"
  },
  "language_info": {
   "codemirror_mode": {
    "name": "ipython",
    "version": 3
   },
   "file_extension": ".py",
   "mimetype": "text/x-python",
   "name": "python",
   "nbconvert_exporter": "python",
   "pygments_lexer": "ipython3",
   "version": "3.6.3"
  }
 },
 "nbformat": 4,
 "nbformat_minor": 2
}
