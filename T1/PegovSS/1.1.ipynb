{
 "cells": [
  {
   "cell_type": "code",
   "execution_count": null,
   "metadata": {},
   "outputs": [],
   "source": [
    "d = input(\"Диаметр бака: \")\n",
    "d = float(d)\n",
    "h = input(\"Высота бака: \")\n",
    "h = float(h)\n",
    "S = input(\"Окрашиваемая площадь одной банкой: \")\n",
    "S = int(S)\n",
    " \n",
    "import math\n",
    " \n",
    "circle = math.pi * d**2 / 4 \n",
    "cylinder = math.pi * d * h\n",
    "total = circle * 4 + cylinder * 2 \n",
    "qty = total / S \n",
    "qty = int(qty) + 1 \n",
    "print(\"Количество требуемых банок:\", qty)"
   ]
  },
  {
   "cell_type": "code",
   "execution_count": null,
   "metadata": {},
   "outputs": [],
   "source": [
    "from random import random\n",
    "N = 10 \n",
    "arr = [0] * N\n",
    "for i in range(N):\n",
    "    arr[i] = int(random() * 50)\n",
    "print(arr)\n",
    "for i in range(N-1):\n",
    "    for j in range(i+1,N):\n",
    "        if arr[i] == arr[j]:\n",
    "            print(\"Есть одинаковые\")\n",
    "            quit()\n",
    "print(\"Все элементы уникальны\")"
   ]
  },
  {
   "cell_type": "code",
   "execution_count": null,
   "metadata": {},
   "outputs": [],
   "source": [
    "from random import random\n",
    " \n",
    "def make_list(n, mn, mx):\n",
    "    a = []\n",
    "    for i in range(n):\n",
    "        b = int(random() * (mx - mn + 1)) + mn\n",
    "        a.append(b)\n",
    "    return a\n",
    " \n",
    "def max_div(a):\n",
    "    b = max(a)\n",
    "    for i in a:\n",
    "        print('%.2f ' % (i/b), end='')\n",
    "    print()\n",
    "    print('max =', b)\n",
    " \n",
    "print('Вводите количество элементов, минимум и максимум через пробел')\n",
    "print('(для завершения оставьте пустую строку)')\n",
    "while 1:\n",
    "    print()\n",
    "    data = input()\n",
    "    if data == '': break\n",
    "    data = data.split()\n",
    "    mylist = make_list(int(data[0]), int(data[1]), int(data[2]))\n",
    "    print(mylist)\n",
    "    max_div(mylist)"
   ]
  },
  {
   "cell_type": "code",
   "execution_count": null,
   "metadata": {},
   "outputs": [],
   "source": [
    "n1 = int(input(\"Введите целое число: \"))\n",
    "n2 = 0\n",
    " \n",
    "while n1 > 0:\n",
    "\tdigit = n1 % 10; \n",
    "\tn1 = n1 // 10; \n",
    "\tn2 = n2 * 10 \n",
    "\tn2 = n2 + digit \n",
    " \n",
    "print('\"Обратное\" ему число:',n2)"
   ]
  },
  {
   "cell_type": "code",
   "execution_count": null,
   "metadata": {},
   "outputs": [],
   "source": [
    "s = input()\n",
    " \n",
    "i = 0\n",
    "while s[i] == ' ': i+=1\n",
    "s = s[i:]\n",
    " \n",
    "i = len(s)\n",
    "while s[i-1] == ' ': i-=1\n",
    "s = s[:i]\n",
    " \n",
    "s1 = s[0]\n",
    "i = 1\n",
    "while i < len(s):\n",
    "\tif s[i] != ' ':\n",
    "\t\ts1 += s[i]\n",
    "\telif s[i-1] != ' ':\n",
    "\t\ts1 += '*'\n",
    "\ti += 1\n",
    "print(s1+'!')"
   ]
  },
  {
   "cell_type": "code",
   "execution_count": null,
   "metadata": {},
   "outputs": [],
   "source": []
  }
 ],
 "metadata": {
  "kernelspec": {
   "display_name": "Python 3",
   "language": "python",
   "name": "python3"
  },
  "language_info": {
   "codemirror_mode": {
    "name": "ipython",
    "version": 3
   },
   "file_extension": ".py",
   "mimetype": "text/x-python",
   "name": "python",
   "nbconvert_exporter": "python",
   "pygments_lexer": "ipython3",
   "version": "3.6.3"
  }
 },
 "nbformat": 4,
 "nbformat_minor": 2
}
