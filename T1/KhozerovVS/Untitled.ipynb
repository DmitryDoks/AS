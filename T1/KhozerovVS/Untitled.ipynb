{
 "cells": [
  {
   "cell_type": "code",
   "execution_count": null,
   "metadata": {},
   "outputs": [],
   "source": [
    "def is_prime (x): \n",
    "    res=True \n",
    "    a=int(pow(x, 0.5)) \n",
    "    for i in range(2,a): \n",
    "        if x%i==0: \n",
    "            res=False \n",
    "        return(res) \n",
    "\n",
    "b=int(input('Vvedite chislo')) \n",
    "print(is_prime(b))"
   ]
  },
  {
   "cell_type": "code",
   "execution_count": null,
   "metadata": {},
   "outputs": [],
   "source": [
    "def arithmetic (a,b,c): \n",
    "    if c == \"+\": \n",
    "    print(a, \"+\", b, \"=\", a+b ) \n",
    "    elif c == \"-\": \n",
    "        print(a, \"-\", b, \"=\", a-b) \n",
    "    elif c == \"/\": \n",
    "        print(a, \"/\", b, \"=\", a/b) \n",
    "    elif c == \"*\": \n",
    "        print(a, \"*\", b, \"=\", a*b) \n",
    "    else: \n",
    "        print(\"Неверная операция \") \n",
    "\n",
    "x=int(input(\"Введите первое число \")) \n",
    "y=int(input(\"Введите второе число: \")) \n",
    "z=input(\"Введите арифметическую операцию: \") \n",
    "arithmetic (x,y,z)"
   ]
  },
  {
   "cell_type": "code",
   "execution_count": null,
   "metadata": {},
   "outputs": [],
   "source": [
    "n = [ 1,3,-6,7,-5,6,-7,6,4,-9,7,-8,3 ] \n",
    "s = 13 \n",
    "i = 0 \n",
    "while i<s: \n",
    "    if n[i]<0: \n",
    "        del n[i] \n",
    "        s = s-1 \n",
    "    else: \n",
    "        i = i+1 \n",
    "print(n) \n",
    "pr=n[0]* n[2]* n[5] \n",
    "print(\"Произведение чисел равно:\",pr)"
   ]
  },
  {
   "cell_type": "code",
   "execution_count": null,
   "metadata": {},
   "outputs": [],
   "source": []
  }
 ],
 "metadata": {
  "kernelspec": {
   "display_name": "Python 3",
   "language": "python",
   "name": "python3"
  },
  "language_info": {
   "codemirror_mode": {
    "name": "ipython",
    "version": 3
   },
   "file_extension": ".py",
   "mimetype": "text/x-python",
   "name": "python",
   "nbconvert_exporter": "python",
   "pygments_lexer": "ipython3",
   "version": "3.6.3"
  }
 },
 "nbformat": 4,
 "nbformat_minor": 2
}
