{
 "cells": [
  {
   "cell_type": "code",
   "execution_count": 9,
   "metadata": {
    "scrolled": true
   },
   "outputs": [
    {
     "name": "stdout",
     "output_type": "stream",
     "text": [
      "Enter tank diametr\n",
      "12\n",
      "Enter tank height\n",
      "4\n",
      "Enter how much can you paint with one paint can\n",
      "5\n",
      "To paint inner and outer walls of tank you need: \n",
      "151 paint cans\n"
     ]
    }
   ],
   "source": [
    "import math\n",
    "print(\"Enter tank diametr\")\n",
    "D = float(input())\n",
    "print(\"Enter tank height\")\n",
    "H = float(input())\n",
    "print(\"Enter how much can you paint with one paint can\")\n",
    "O = float(input())\n",
    "print(\"To paint inner and outer walls of tank you need: \")\n",
    "print(round((D * math.pi * H * 2 + math.pi * (D/2)**2 * 4) / O),\"paint cans\")"
   ]
  },
  {
   "cell_type": "code",
   "execution_count": null,
   "metadata": {},
   "outputs": [],
   "source": []
  }
 ],
 "metadata": {
  "kernelspec": {
   "display_name": "Python 3",
   "language": "python",
   "name": "python3"
  },
  "language_info": {
   "codemirror_mode": {
    "name": "ipython",
    "version": 3
   },
   "file_extension": ".py",
   "mimetype": "text/x-python",
   "name": "python",
   "nbconvert_exporter": "python",
   "pygments_lexer": "ipython3",
   "version": "3.6.3"
  }
 },
 "nbformat": 4,
 "nbformat_minor": 2
}
