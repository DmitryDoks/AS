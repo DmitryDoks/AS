{
 "cells": [
  {
   "cell_type": "code",
   "execution_count": 11,
   "metadata": {},
   "outputs": [
    {
     "name": "stdout",
     "output_type": "stream",
     "text": [
      "Enter the elements (element '*q' will stop entering)\n",
      "1\n",
      "2\n",
      "3\n",
      "5\n",
      "6\n",
      "*q\n",
      "['1', '2', '3', '5', '6']\n",
      "All elements are unique\n"
     ]
    }
   ],
   "source": [
    "arr = []\n",
    "uniq = 1\n",
    "print(\"Enter the elements (element '*q' will stop entering)\")\n",
    "i = 0\n",
    "arr.append(input())\n",
    "while arr[i] != \"*q\":\n",
    "    arr.append(input())\n",
    "    i+=1\n",
    "arr.pop()\n",
    "print (arr)\n",
    "for j in arr:\n",
    "    if arr.count(j) > 1:\n",
    "        uniq = 0\n",
    "        break\n",
    "if uniq == 1:\n",
    "    print (\"All elements are unique\")\n",
    "else:\n",
    "    print (\"Not all elements are unique\")\n",
    "    \n",
    "    "
   ]
  },
  {
   "cell_type": "code",
   "execution_count": null,
   "metadata": {},
   "outputs": [],
   "source": []
  },
  {
   "cell_type": "code",
   "execution_count": null,
   "metadata": {},
   "outputs": [],
   "source": []
  }
 ],
 "metadata": {
  "kernelspec": {
   "display_name": "Python 3",
   "language": "python",
   "name": "python3"
  },
  "language_info": {
   "codemirror_mode": {
    "name": "ipython",
    "version": 3
   },
   "file_extension": ".py",
   "mimetype": "text/x-python",
   "name": "python",
   "nbconvert_exporter": "python",
   "pygments_lexer": "ipython3",
   "version": "3.6.3"
  }
 },
 "nbformat": 4,
 "nbformat_minor": 2
}
