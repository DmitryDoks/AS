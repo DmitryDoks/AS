{
 "cells": [
  {
   "cell_type": "code",
   "execution_count": 12,
   "metadata": {},
   "outputs": [
    {
     "name": "stdout",
     "output_type": "stream",
     "text": [
      "Enter the amount of elements, then the elements\n",
      "3\n",
      "1\n",
      "10\n",
      "5\n",
      "Enter the amount of elements, then the elements\n",
      "2\n",
      "8\n",
      "16\n",
      "[0.1, 1.0, 1.0]\n",
      "[0.5, 1.0]\n"
     ]
    }
   ],
   "source": [
    "print(\"Enter the amount of elements, then the elements\")\n",
    "arr1 = []\n",
    "for i in range(int(input())):\n",
    "    arr1.append(int(input()))\n",
    "print(\"Enter the amount of elements, then the elements\")\n",
    "arr2 = []\n",
    "for i in range(int(input())):\n",
    "    arr2.append(int(input()))\n",
    "\n",
    "i=0\n",
    "for a in arr1:\n",
    "    arr1[i] = a/max(arr1)\n",
    "    i+=1\n",
    "i=0            \n",
    "for b in arr2:\n",
    "    arr2[i] = b/max(arr2)\n",
    "    i+=1\n",
    "            \n",
    "print(arr1)\n",
    "print(arr2)            "
   ]
  },
  {
   "cell_type": "code",
   "execution_count": null,
   "metadata": {},
   "outputs": [],
   "source": []
  },
  {
   "cell_type": "code",
   "execution_count": null,
   "metadata": {},
   "outputs": [],
   "source": []
  }
 ],
 "metadata": {
  "kernelspec": {
   "display_name": "Python 3",
   "language": "python",
   "name": "python3"
  },
  "language_info": {
   "codemirror_mode": {
    "name": "ipython",
    "version": 3
   },
   "file_extension": ".py",
   "mimetype": "text/x-python",
   "name": "python",
   "nbconvert_exporter": "python",
   "pygments_lexer": "ipython3",
   "version": "3.6.3"
  }
 },
 "nbformat": 4,
 "nbformat_minor": 2
}
