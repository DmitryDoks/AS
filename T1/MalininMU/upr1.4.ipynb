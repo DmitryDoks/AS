{
 "cells": [
  {
   "cell_type": "code",
   "execution_count": 6,
   "metadata": {},
   "outputs": [
    {
     "name": "stdout",
     "output_type": "stream",
     "text": [
      "Enter the string\n",
      "bdfifdbjdpibj idbjdfoibjdoihp id hdoifbhod\n",
      "bdfifdbjdpibj*idbjdfoibjdoihp*id*hdoifbhod\n"
     ]
    }
   ],
   "source": [
    "A=\"\"\n",
    "print(\"Enter the string\")\n",
    "str=input()\n",
    "str = str.split()\n",
    "\n",
    "for i in range(len(str)) :\n",
    "    A+=(str[i]+\"*\")\n",
    "A = A[:-1]\n",
    "print (A)"
   ]
  },
  {
   "cell_type": "code",
   "execution_count": null,
   "metadata": {},
   "outputs": [],
   "source": []
  },
  {
   "cell_type": "code",
   "execution_count": null,
   "metadata": {},
   "outputs": [],
   "source": []
  }
 ],
 "metadata": {
  "kernelspec": {
   "display_name": "Python 3",
   "language": "python",
   "name": "python3"
  },
  "language_info": {
   "codemirror_mode": {
    "name": "ipython",
    "version": 3
   },
   "file_extension": ".py",
   "mimetype": "text/x-python",
   "name": "python",
   "nbconvert_exporter": "python",
   "pygments_lexer": "ipython3",
   "version": "3.6.3"
  }
 },
 "nbformat": 4,
 "nbformat_minor": 2
}
