{
 "cells": [
  {
   "cell_type": "code",
   "execution_count": 1,
   "metadata": {},
   "outputs": [
    {
     "name": "stdout",
     "output_type": "stream",
     "text": [
      "[19, 0, 0, 0, 0]\n",
      "[19, 40, 0, 0, 0]\n",
      "[19, 40, 35, 0, 0]\n",
      "[19, 40, 35, 35, 0]\n",
      "[19, 40, 35, 35, 1]\n",
      "Есть одинаковые\n",
      "Все уникальны\n"
     ]
    }
   ],
   "source": [
    "from random import random \n",
    "r=5 \n",
    "arr = [0]*r\n",
    "\n",
    "for i in range(r): \n",
    "    arr[i]=int(random()*50) \n",
    "    print(arr) \n",
    "    \n",
    "for i in range(r-1): \n",
    "    for j in range(i+1,r): \n",
    "        if arr[i]==arr[j]: \n",
    "            print(\"Есть одинаковые\") \n",
    "            quit() \n",
    "print(\"Все уникальны\")"
   ]
  },
  {
   "cell_type": "code",
   "execution_count": null,
   "metadata": {},
   "outputs": [],
   "source": []
  }
 ],
 "metadata": {
  "kernelspec": {
   "display_name": "Python 3",
   "language": "python",
   "name": "python3"
  },
  "language_info": {
   "codemirror_mode": {
    "name": "ipython",
    "version": 3
   },
   "file_extension": ".py",
   "mimetype": "text/x-python",
   "name": "python",
   "nbconvert_exporter": "python",
   "pygments_lexer": "ipython3",
   "version": "3.5.4"
  }
 },
 "nbformat": 4,
 "nbformat_minor": 2
}
