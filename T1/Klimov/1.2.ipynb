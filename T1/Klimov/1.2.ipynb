{
 "cells": [
  {
   "cell_type": "code",
   "execution_count": 1,
   "metadata": {},
   "outputs": [
    {
     "name": "stdout",
     "output_type": "stream",
     "text": [
      "Вводите количество элементов, минимум и максимум через пробел\n",
      "(для завершения оставьте пустую строку)\n",
      "\n",
      "\n",
      "[8, 8, 8, 8]\n",
      "1.00 1.00 1.00 1.00 \n",
      "max = 8\n"
     ]
    }
   ],
   "source": [
    "from random import random \n",
    "\n",
    "def make_list(n, mk, mx): \n",
    "    t = [] \n",
    "    for i in range(n): \n",
    "        b = int(random() * (mx - mk + 1)) + mk \n",
    "        t.append(b) \n",
    "    return t \n",
    "\n",
    "def max_div(t): \n",
    "    b = max(t) \n",
    "    for i in t: \n",
    "        print('%.2f ' % (i/b), end='') \n",
    "    print() \n",
    "    print('max =', b) \n",
    "\n",
    "print('Введите кол-во элементов, минимум и максимум через пробел') \n",
    "print('(для завершения оставьте пустую строку)') \n",
    "while 1: \n",
    "    print() \n",
    "    data = input() \n",
    "    if data == '': break \n",
    "    data = data.split() \n",
    "    mylist = make_list(int(data[0]), int(data[1]), int(data[2])) \n",
    "print(mylist) \n",
    "max_div(mylist)"
   ]
  },
  {
   "cell_type": "code",
   "execution_count": null,
   "metadata": {},
   "outputs": [],
   "source": []
  }
 ],
 "metadata": {
  "kernelspec": {
   "display_name": "Python 3",
   "language": "python",
   "name": "python3"
  },
  "language_info": {
   "codemirror_mode": {
    "name": "ipython",
    "version": 3
   },
   "file_extension": ".py",
   "mimetype": "text/x-python",
   "name": "python",
   "nbconvert_exporter": "python",
   "pygments_lexer": "ipython3",
   "version": "3.5.4"
  }
 },
 "nbformat": 4,
 "nbformat_minor": 2
}
